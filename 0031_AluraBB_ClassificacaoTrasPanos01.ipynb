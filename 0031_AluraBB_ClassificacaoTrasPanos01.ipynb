{
  "nbformat": 4,
  "nbformat_minor": 0,
  "metadata": {
    "colab": {
      "name": "0031_AluraBB_ClassificacaoTrasPanos01.ipynb",
      "provenance": [],
      "collapsed_sections": [],
      "authorship_tag": "ABX9TyO2IgNGKr2ShKhqV3Uty49f",
      "include_colab_link": true
    },
    "kernelspec": {
      "name": "python3",
      "display_name": "Python 3"
    },
    "language_info": {
      "name": "python"
    }
  },
  "cells": [
    {
      "cell_type": "markdown",
      "metadata": {
        "id": "view-in-github",
        "colab_type": "text"
      },
      "source": [
        "<a href=\"https://colab.research.google.com/github/julianovale/BB_Evolution/blob/main/0031_AluraBB_ClassificacaoTrasPanos01.ipynb\" target=\"_parent\"><img src=\"https://colab.research.google.com/assets/colab-badge.svg\" alt=\"Open In Colab\"/></a>"
      ]
    },
    {
      "cell_type": "code",
      "execution_count": 1,
      "metadata": {
        "id": "eRQK-fWTGF33"
      },
      "outputs": [],
      "source": [
        "# gordinho?, perninha curta?, faz auau?\n",
        "\n",
        "porco1 =    [1, 1, 0]\n",
        "porco2 =    [1, 1, 0]\n",
        "porco3 =    [1, 1, 0]\n",
        "cachorro1 = [1, 1, 1]\n",
        "cachorro2 = [0, 1, 1]\n",
        "cachorro3 = [0, 1, 1]\n",
        "\n",
        "dados = [porco1, porco2, porco3, cachorro1, cachorro2, cachorro3]\n",
        "\n",
        "# 1 = porco; -1 = cachorro \n",
        "marcacoes = [1, 1, 1, -1, -1, -1]\n",
        "\n",
        "# e esse é porco ou cachorro\n",
        "misterioso = [[1, 1, 1]]"
      ]
    },
    {
      "cell_type": "code",
      "source": [
        "from sklearn.naive_bayes import MultinomialNB"
      ],
      "metadata": {
        "id": "3CAsR1obLVaW"
      },
      "execution_count": 2,
      "outputs": []
    },
    {
      "cell_type": "code",
      "source": [
        "modelo = MultinomialNB()\n",
        "modelo.fit(dados, marcacoes)\n",
        "print(modelo.predict(misterioso))"
      ],
      "metadata": {
        "colab": {
          "base_uri": "https://localhost:8080/"
        },
        "id": "cfSPKIz8LdG3",
        "outputId": "db5dd8e5-a8a8-403d-bd63-c9491a4f2138"
      },
      "execution_count": 3,
      "outputs": [
        {
          "output_type": "stream",
          "name": "stdout",
          "text": [
            "[-1]\n"
          ]
        }
      ]
    },
    {
      "cell_type": "code",
      "source": [
        "misterioso1 = [1, 1, 1]\n",
        "misterioso2 = [1, 0, 0]"
      ],
      "metadata": {
        "id": "8q7mF3H2Lp5b"
      },
      "execution_count": 4,
      "outputs": []
    },
    {
      "cell_type": "code",
      "source": [
        "teste = [misterioso1, misterioso2]\n",
        "\n",
        "modelo = MultinomialNB()\n",
        "modelo.fit(dados, marcacoes)\n",
        "print(modelo.predict(teste))"
      ],
      "metadata": {
        "colab": {
          "base_uri": "https://localhost:8080/"
        },
        "id": "LGKfO9PiNLRe",
        "outputId": "05eed691-7d8c-47a7-b52a-cdd72ddda271"
      },
      "execution_count": 5,
      "outputs": [
        {
          "output_type": "stream",
          "name": "stdout",
          "text": [
            "[-1  1]\n"
          ]
        }
      ]
    },
    {
      "cell_type": "code",
      "source": [
        "misterioso1 = [1, 1, 1]\n",
        "misterioso2 = [1, 0, 0]\n",
        "misterioso3 = [0, 0, 1]\n",
        "\n",
        "teste = [misterioso1, misterioso2, misterioso3]\n",
        "\n",
        "marcacoes_teste = [-1, 1, -1] # rótulos conhecidos"
      ],
      "metadata": {
        "id": "uoYas3yBHe7n"
      },
      "execution_count": 7,
      "outputs": []
    },
    {
      "cell_type": "code",
      "source": [
        "modelo = MultinomialNB()\n",
        "modelo.fit(dados, marcacoes)\n",
        "resultado = modelo.predict(teste)\n",
        "print(resultado)"
      ],
      "metadata": {
        "colab": {
          "base_uri": "https://localhost:8080/"
        },
        "id": "DYIJFpXYHoVX",
        "outputId": "f163d82e-c130-4b90-aeb7-ab579e3bcd79"
      },
      "execution_count": 9,
      "outputs": [
        {
          "output_type": "stream",
          "name": "stdout",
          "text": [
            "[-1  1 -1]\n"
          ]
        }
      ]
    },
    {
      "cell_type": "code",
      "source": [
        "diferencas = resultado - marcacoes_teste # se acertar tudo vai sair um array com zeros\n",
        "print(diferencas)"
      ],
      "metadata": {
        "colab": {
          "base_uri": "https://localhost:8080/"
        },
        "id": "c__zaM05IQF6",
        "outputId": "ecb4606e-c343-4d21-e608-ad643c097c22"
      },
      "execution_count": 12,
      "outputs": [
        {
          "output_type": "stream",
          "name": "stdout",
          "text": [
            "[0 0 0]\n"
          ]
        }
      ]
    },
    {
      "cell_type": "code",
      "source": [
        "acertos = [d for d in diferencas if d==0]\n",
        "total_de_acertos = len(acertos)\n",
        "total_de_elementos = len(teste)\n",
        "taxa_de_acertos = 100.0*(total_de_acertos/total_de_elementos)\n",
        "print(taxa_de_acertos)"
      ],
      "metadata": {
        "colab": {
          "base_uri": "https://localhost:8080/"
        },
        "id": "8Io9Ot37IUA-",
        "outputId": "a9847465-259e-4bd5-b42c-548c9fc48943"
      },
      "execution_count": 24,
      "outputs": [
        {
          "output_type": "stream",
          "name": "stdout",
          "text": [
            "100.0\n"
          ]
        }
      ]
    }
  ]
}