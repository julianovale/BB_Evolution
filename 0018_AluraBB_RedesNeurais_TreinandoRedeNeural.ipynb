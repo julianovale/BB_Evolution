{
  "nbformat": 4,
  "nbformat_minor": 0,
  "metadata": {
    "colab": {
      "name": "0018_AluraBB_RedesNeurais_TreinandoRedeNeural.ipynb",
      "provenance": [],
      "collapsed_sections": [],
      "authorship_tag": "ABX9TyNqKbAGX+ZSlb336cA/Y7dl",
      "include_colab_link": true
    },
    "kernelspec": {
      "name": "python3",
      "display_name": "Python 3"
    },
    "language_info": {
      "name": "python"
    },
    "accelerator": "GPU"
  },
  "cells": [
    {
      "cell_type": "markdown",
      "metadata": {
        "id": "view-in-github",
        "colab_type": "text"
      },
      "source": [
        "<a href=\"https://colab.research.google.com/github/julianovale/BB_Evolution/blob/main/0018_AluraBB_RedesNeurais_TreinandoRedeNeural.ipynb\" target=\"_parent\"><img src=\"https://colab.research.google.com/assets/colab-badge.svg\" alt=\"Open In Colab\"/></a>"
      ]
    },
    {
      "cell_type": "code",
      "metadata": {
        "id": "Zowm_7FhiqL-"
      },
      "source": [
        "import torch\n",
        "from torch import nn"
      ],
      "execution_count": 1,
      "outputs": []
    },
    {
      "cell_type": "code",
      "metadata": {
        "colab": {
          "base_uri": "https://localhost:8080/"
        },
        "id": "lJSGDA_fi3H9",
        "outputId": "79c2de39-88e4-4b32-fbaf-2a34e40d6c73"
      },
      "source": [
        "if torch.cuda.is_available():\n",
        "  device = torch.device('cuda')\n",
        "else:\n",
        "  device = torch.device('cpu')\n",
        "\n",
        "print(device)"
      ],
      "execution_count": 2,
      "outputs": [
        {
          "output_type": "stream",
          "text": [
            "cuda\n"
          ],
          "name": "stdout"
        }
      ]
    },
    {
      "cell_type": "markdown",
      "metadata": {
        "id": "eBHtfFnbjVZE"
      },
      "source": [
        "# Dataset: Diabetes\n",
        "Um problema de regressão: regressão da progressão do diabetes (em escalar)\n"
      ]
    },
    {
      "cell_type": "code",
      "metadata": {
        "colab": {
          "base_uri": "https://localhost:8080/"
        },
        "id": "Z7qQmRrOjTNg",
        "outputId": "c35e445d-ff80-4c20-bb30-252f88c51c68"
      },
      "source": [
        "from sklearn import datasets\n",
        "\n",
        "diabetes = datasets.load_diabetes()\n",
        "data = diabetes.data\n",
        "target = diabetes.target\n",
        "\n",
        "print(data.shape, target.shape)"
      ],
      "execution_count": 3,
      "outputs": [
        {
          "output_type": "stream",
          "text": [
            "(442, 10) (442,)\n"
          ],
          "name": "stdout"
        }
      ]
    },
    {
      "cell_type": "code",
      "metadata": {
        "colab": {
          "base_uri": "https://localhost:8080/"
        },
        "id": "KWpQ8E34tTWC",
        "outputId": "6bb683dc-4e87-46c5-d813-90ca5e62de6d"
      },
      "source": [
        "print(data[5])\n",
        "print(target[5])"
      ],
      "execution_count": 4,
      "outputs": [
        {
          "output_type": "stream",
          "text": [
            "[-0.09269548 -0.04464164 -0.04069594 -0.01944209 -0.06899065 -0.07928784\n",
            "  0.04127682 -0.0763945  -0.04118039 -0.09634616]\n",
            "97.0\n"
          ],
          "name": "stdout"
        }
      ]
    },
    {
      "cell_type": "markdown",
      "metadata": {
        "id": "j44be4Omt7qa"
      },
      "source": [
        "# Implementando MLP"
      ]
    },
    {
      "cell_type": "code",
      "metadata": {
        "id": "kWfyC5cgtdiV"
      },
      "source": [
        "class DiabetesRegression(nn.Module):\n",
        "\n",
        "  def __init__(self, input_size, hidden_size, out_size):\n",
        "    super(DiabetesRegression, self).__init__()\n",
        "\n",
        "    self.hidden = nn.Linear(input_size, hidden_size)\n",
        "    self.relu = nn.ReLU()\n",
        "    self.out = nn.Linear(hidden_size, out_size)\n",
        "    self.softmax = nn.Softmax(dim=-1)\n",
        "\n",
        "  def forward(self, X):\n",
        "\n",
        "    feature = self.relu(self.hidden(X))\n",
        "    output = self.softmax(self.out(feature))\n",
        "\n",
        "    return output\n",
        "\n",
        "input_size = data.shape[1]\n",
        "hidden_size = 32\n",
        "out_size = 1 # progressão da diabetes\n",
        "\n",
        "net = DiabetesRegression(input_size, hidden_size, out_size).to(device) # cast na GPU"
      ],
      "execution_count": 15,
      "outputs": []
    },
    {
      "cell_type": "code",
      "metadata": {
        "colab": {
          "base_uri": "https://localhost:8080/"
        },
        "id": "dHAVqa1L7P31",
        "outputId": "0114e89f-c636-4f92-9bed-7be45d0cc28e"
      },
      "source": [
        "print(net)"
      ],
      "execution_count": 16,
      "outputs": [
        {
          "output_type": "stream",
          "text": [
            "DiabetesRegression(\n",
            "  (hidden): Linear(in_features=10, out_features=32, bias=True)\n",
            "  (relu): ReLU()\n",
            "  (out): Linear(in_features=32, out_features=1, bias=True)\n",
            "  (softmax): Softmax(dim=-1)\n",
            ")\n"
          ],
          "name": "stdout"
        }
      ]
    },
    {
      "cell_type": "code",
      "metadata": {
        "colab": {
          "base_uri": "https://localhost:8080/"
        },
        "id": "bu4jP-DL7QpZ",
        "outputId": "2c4412d8-5c95-49eb-8b83-26e93e6b2d36"
      },
      "source": [
        "# na regressão rótulo e predição devem ter a mesma dimensionalidade (CONFERIR!!!)\n",
        "\n",
        "criterion = nn.MSELoss().to(device)\n",
        "Xtns = torch.from_numpy(data).float().to(device)\n",
        "Ytns = torch.from_numpy(target).to(device)\n",
        "\n",
        "print(Xtns.shape, Ytns.shape)"
      ],
      "execution_count": 17,
      "outputs": [
        {
          "output_type": "stream",
          "text": [
            "torch.Size([442, 10]) torch.Size([442])\n"
          ],
          "name": "stdout"
        }
      ]
    },
    {
      "cell_type": "code",
      "metadata": {
        "colab": {
          "base_uri": "https://localhost:8080/"
        },
        "id": "8I0bU1478VQm",
        "outputId": "e882f691-436e-4143-df5d-759ba46d90fb"
      },
      "source": [
        "pred = net(Xtns)\n",
        "loss = criterion(pred.squeeze(), Ytns)\n",
        "print(loss)"
      ],
      "execution_count": 18,
      "outputs": [
        {
          "output_type": "stream",
          "text": [
            "tensor(28771.2149, device='cuda:0', dtype=torch.float64,\n",
            "       grad_fn=<MseLossBackward>)\n"
          ],
          "name": "stdout"
        }
      ]
    }
  ]
}