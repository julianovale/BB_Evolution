{
  "nbformat": 4,
  "nbformat_minor": 0,
  "metadata": {
    "colab": {
      "name": "0025_AluraBB_Geopandas01.ipynb",
      "provenance": [],
      "collapsed_sections": [],
      "authorship_tag": "ABX9TyObsvxvQ9OU53x23sa4lRlz",
      "include_colab_link": true
    },
    "kernelspec": {
      "name": "python3",
      "display_name": "Python 3"
    },
    "language_info": {
      "name": "python"
    }
  },
  "cells": [
    {
      "cell_type": "markdown",
      "metadata": {
        "id": "view-in-github",
        "colab_type": "text"
      },
      "source": [
        "<a href=\"https://colab.research.google.com/github/julianovale/BB_Evolution/blob/main/0025_AluraBB_Geopandas01.ipynb\" target=\"_parent\"><img src=\"https://colab.research.google.com/assets/colab-badge.svg\" alt=\"Open In Colab\"/></a>"
      ]
    },
    {
      "cell_type": "markdown",
      "metadata": {
        "id": "AanFHYEgN_fb"
      },
      "source": [
        "## Introdução\n",
        "\n"
      ]
    },
    {
      "cell_type": "code",
      "metadata": {
        "colab": {
          "base_uri": "https://localhost:8080/"
        },
        "id": "9TeEdCFGJaQG",
        "outputId": "2d3234a2-e229-4080-f66f-2e616a7e7d37"
      },
      "source": [
        "! pip install geopandas"
      ],
      "execution_count": 1,
      "outputs": [
        {
          "output_type": "stream",
          "text": [
            "Collecting geopandas\n",
            "\u001b[?25l  Downloading https://files.pythonhosted.org/packages/d7/bf/e9cefb69d39155d122b6ddca53893b61535fa6ffdad70bf5ef708977f53f/geopandas-0.9.0-py2.py3-none-any.whl (994kB)\n",
            "\u001b[K     |████████████████████████████████| 1.0MB 5.3MB/s \n",
            "\u001b[?25hRequirement already satisfied: shapely>=1.6 in /usr/local/lib/python3.7/dist-packages (from geopandas) (1.7.1)\n",
            "Collecting fiona>=1.8\n",
            "\u001b[?25l  Downloading https://files.pythonhosted.org/packages/9c/fc/9807326c37a6bfb2393ae3e1cca147aa74844562c4d5daa782d6e97ad2bc/Fiona-1.8.20-cp37-cp37m-manylinux1_x86_64.whl (15.4MB)\n",
            "\u001b[K     |████████████████████████████████| 15.4MB 191kB/s \n",
            "\u001b[?25hCollecting pyproj>=2.2.0\n",
            "\u001b[?25l  Downloading https://files.pythonhosted.org/packages/11/1d/1c54c672c2faf08d28fe78e15d664c048f786225bef95ad87b6c435cf69e/pyproj-3.1.0-cp37-cp37m-manylinux2010_x86_64.whl (6.6MB)\n",
            "\u001b[K     |████████████████████████████████| 6.6MB 41.7MB/s \n",
            "\u001b[?25hRequirement already satisfied: pandas>=0.24.0 in /usr/local/lib/python3.7/dist-packages (from geopandas) (1.1.5)\n",
            "Requirement already satisfied: setuptools in /usr/local/lib/python3.7/dist-packages (from fiona>=1.8->geopandas) (57.0.0)\n",
            "Collecting munch\n",
            "  Downloading https://files.pythonhosted.org/packages/cc/ab/85d8da5c9a45e072301beb37ad7f833cd344e04c817d97e0cc75681d248f/munch-2.5.0-py2.py3-none-any.whl\n",
            "Requirement already satisfied: attrs>=17 in /usr/local/lib/python3.7/dist-packages (from fiona>=1.8->geopandas) (21.2.0)\n",
            "Collecting cligj>=0.5\n",
            "  Downloading https://files.pythonhosted.org/packages/73/86/43fa9f15c5b9fb6e82620428827cd3c284aa933431405d1bcf5231ae3d3e/cligj-0.7.2-py3-none-any.whl\n",
            "Collecting click-plugins>=1.0\n",
            "  Downloading https://files.pythonhosted.org/packages/e9/da/824b92d9942f4e472702488857914bdd50f73021efea15b4cad9aca8ecef/click_plugins-1.1.1-py2.py3-none-any.whl\n",
            "Requirement already satisfied: six>=1.7 in /usr/local/lib/python3.7/dist-packages (from fiona>=1.8->geopandas) (1.15.0)\n",
            "Requirement already satisfied: certifi in /usr/local/lib/python3.7/dist-packages (from fiona>=1.8->geopandas) (2021.5.30)\n",
            "Requirement already satisfied: click>=4.0 in /usr/local/lib/python3.7/dist-packages (from fiona>=1.8->geopandas) (7.1.2)\n",
            "Requirement already satisfied: pytz>=2017.2 in /usr/local/lib/python3.7/dist-packages (from pandas>=0.24.0->geopandas) (2018.9)\n",
            "Requirement already satisfied: python-dateutil>=2.7.3 in /usr/local/lib/python3.7/dist-packages (from pandas>=0.24.0->geopandas) (2.8.1)\n",
            "Requirement already satisfied: numpy>=1.15.4 in /usr/local/lib/python3.7/dist-packages (from pandas>=0.24.0->geopandas) (1.19.5)\n",
            "Installing collected packages: munch, cligj, click-plugins, fiona, pyproj, geopandas\n",
            "Successfully installed click-plugins-1.1.1 cligj-0.7.2 fiona-1.8.20 geopandas-0.9.0 munch-2.5.0 pyproj-3.1.0\n"
          ],
          "name": "stdout"
        }
      ]
    },
    {
      "cell_type": "code",
      "metadata": {
        "id": "J_nVzfHRvIeW"
      },
      "source": [
        "import geopandas as gpd\n",
        "import pandas as pd"
      ],
      "execution_count": 18,
      "outputs": []
    },
    {
      "cell_type": "code",
      "metadata": {
        "id": "nIhWqmpOKDBm",
        "colab": {
          "base_uri": "https://localhost:8080/"
        },
        "outputId": "2cdbfdf0-feeb-4058-c2ce-8d5b69c6f63f"
      },
      "source": [
        "! wget https://caelum-online-public.s3.amazonaws.com/985-geopandas/01/Mapas.zip\n",
        "! unzip Mapas.zip"
      ],
      "execution_count": 3,
      "outputs": [
        {
          "output_type": "stream",
          "text": [
            "--2021-07-11 11:55:09--  https://caelum-online-public.s3.amazonaws.com/985-geopandas/01/Mapas.zip\n",
            "Resolving caelum-online-public.s3.amazonaws.com (caelum-online-public.s3.amazonaws.com)... 52.216.114.83\n",
            "Connecting to caelum-online-public.s3.amazonaws.com (caelum-online-public.s3.amazonaws.com)|52.216.114.83|:443... connected.\n",
            "HTTP request sent, awaiting response... 200 OK\n",
            "Length: 2200604 (2.1M) [application/octet-stream]\n",
            "Saving to: ‘Mapas.zip’\n",
            "\n",
            "Mapas.zip           100%[===================>]   2.10M  9.57MB/s    in 0.2s    \n",
            "\n",
            "2021-07-11 11:55:10 (9.57 MB/s) - ‘Mapas.zip’ saved [2200604/2200604]\n",
            "\n",
            "Archive:  Mapas.zip\n",
            "   creating: Mapas/\n",
            "   creating: Mapas/RJ/\n",
            "  inflating: Mapas/RJ/33MUE250GC_SIR.shx  \n",
            "  inflating: Mapas/RJ/33MUE250GC_SIR.shp  \n",
            "  inflating: Mapas/RJ/33MUE250GC_SIR.prj  \n",
            "  inflating: Mapas/RJ/33MUE250GC_SIR.dbf  \n"
          ],
          "name": "stdout"
        }
      ]
    },
    {
      "cell_type": "code",
      "metadata": {
        "colab": {
          "base_uri": "https://localhost:8080/"
        },
        "id": "kjnupfIdu2FK",
        "outputId": "7320dafa-29cc-44f9-e44b-de05a236f187"
      },
      "source": [
        "rj = gpd.read_file('/content/Mapas/RJ/33MUE250GC_SIR.shp')\n",
        "type(rj)"
      ],
      "execution_count": 4,
      "outputs": [
        {
          "output_type": "execute_result",
          "data": {
            "text/plain": [
              "geopandas.geodataframe.GeoDataFrame"
            ]
          },
          "metadata": {
            "tags": []
          },
          "execution_count": 4
        }
      ]
    },
    {
      "cell_type": "code",
      "metadata": {
        "colab": {
          "base_uri": "https://localhost:8080/",
          "height": 204
        },
        "id": "9Ya6WDILw9EI",
        "outputId": "282a21a6-e319-4edb-f823-392e7adf307d"
      },
      "source": [
        "  rj.head()"
      ],
      "execution_count": 5,
      "outputs": [
        {
          "output_type": "execute_result",
          "data": {
            "text/html": [
              "<div>\n",
              "<style scoped>\n",
              "    .dataframe tbody tr th:only-of-type {\n",
              "        vertical-align: middle;\n",
              "    }\n",
              "\n",
              "    .dataframe tbody tr th {\n",
              "        vertical-align: top;\n",
              "    }\n",
              "\n",
              "    .dataframe thead th {\n",
              "        text-align: right;\n",
              "    }\n",
              "</style>\n",
              "<table border=\"1\" class=\"dataframe\">\n",
              "  <thead>\n",
              "    <tr style=\"text-align: right;\">\n",
              "      <th></th>\n",
              "      <th>ID</th>\n",
              "      <th>CD_GEOCODM</th>\n",
              "      <th>NM_MUNICIP</th>\n",
              "      <th>geometry</th>\n",
              "    </tr>\n",
              "  </thead>\n",
              "  <tbody>\n",
              "    <tr>\n",
              "      <th>0</th>\n",
              "      <td>1468</td>\n",
              "      <td>3300100</td>\n",
              "      <td>ANGRA DOS REIS</td>\n",
              "      <td>MULTIPOLYGON (((-44.33208 -23.02384, -44.33221...</td>\n",
              "    </tr>\n",
              "    <tr>\n",
              "      <th>1</th>\n",
              "      <td>1469</td>\n",
              "      <td>3300159</td>\n",
              "      <td>APERIBÉ</td>\n",
              "      <td>POLYGON ((-42.08950 -21.62893, -42.08912 -21.6...</td>\n",
              "    </tr>\n",
              "    <tr>\n",
              "      <th>2</th>\n",
              "      <td>1470</td>\n",
              "      <td>3300209</td>\n",
              "      <td>ARARUAMA</td>\n",
              "      <td>POLYGON ((-42.22526 -22.59253, -42.22521 -22.5...</td>\n",
              "    </tr>\n",
              "    <tr>\n",
              "      <th>3</th>\n",
              "      <td>1471</td>\n",
              "      <td>3300225</td>\n",
              "      <td>AREAL</td>\n",
              "      <td>POLYGON ((-43.16007 -22.20005, -43.16003 -22.1...</td>\n",
              "    </tr>\n",
              "    <tr>\n",
              "      <th>4</th>\n",
              "      <td>1472</td>\n",
              "      <td>3300233</td>\n",
              "      <td>ARMAÇÃO DOS BÚZIOS</td>\n",
              "      <td>MULTIPOLYGON (((-41.98427 -22.74458, -41.98296...</td>\n",
              "    </tr>\n",
              "  </tbody>\n",
              "</table>\n",
              "</div>"
            ],
            "text/plain": [
              "     ID  ...                                           geometry\n",
              "0  1468  ...  MULTIPOLYGON (((-44.33208 -23.02384, -44.33221...\n",
              "1  1469  ...  POLYGON ((-42.08950 -21.62893, -42.08912 -21.6...\n",
              "2  1470  ...  POLYGON ((-42.22526 -22.59253, -42.22521 -22.5...\n",
              "3  1471  ...  POLYGON ((-43.16007 -22.20005, -43.16003 -22.1...\n",
              "4  1472  ...  MULTIPOLYGON (((-41.98427 -22.74458, -41.98296...\n",
              "\n",
              "[5 rows x 4 columns]"
            ]
          },
          "metadata": {
            "tags": []
          },
          "execution_count": 5
        }
      ]
    },
    {
      "cell_type": "code",
      "metadata": {
        "colab": {
          "base_uri": "https://localhost:8080/",
          "height": 282
        },
        "id": "rblu3I9K246a",
        "outputId": "d2216968-27cd-4fba-db10-2bfd28ef7209"
      },
      "source": [
        "rj.plot()"
      ],
      "execution_count": 6,
      "outputs": [
        {
          "output_type": "execute_result",
          "data": {
            "text/plain": [
              "<matplotlib.axes._subplots.AxesSubplot at 0x7fcd47646a90>"
            ]
          },
          "metadata": {
            "tags": []
          },
          "execution_count": 6
        },
        {
          "output_type": "display_data",
          "data": {
            "image/png": "[encoded data removed]",
            "text/plain": [
              "<Figure size 432x288 with 1 Axes>"
            ]
          },
          "metadata": {
            "tags": [],
            "needs_background": "light"
          }
        }
      ]
    },
    {
      "cell_type": "code",
      "metadata": {
        "colab": {
          "base_uri": "https://localhost:8080/",
          "height": 500
        },
        "id": "jkAdSl103BUV",
        "outputId": "6aed04f5-6d1e-40e1-f69b-0e24a0a5ee15"
      },
      "source": [
        "rj.plot(color='white', edgecolor='black', figsize=(15,8))"
      ],
      "execution_count": 7,
      "outputs": [
        {
          "output_type": "execute_result",
          "data": {
            "text/plain": [
              "<matplotlib.axes._subplots.AxesSubplot at 0x7fcd47545390>"
            ]
          },
          "metadata": {
            "tags": []
          },
          "execution_count": 7
        },
        {
          "output_type": "display_data",
          "data": {
            "image/png": "[encoded data removed]",
            "text/plain": [
              "<Figure size 1080x576 with 1 Axes>"
            ]
          },
          "metadata": {
            "tags": [],
            "needs_background": "light"
          }
        }
      ]
    },
    {
      "cell_type": "code",
      "metadata": {
        "id": "5_iMvQ8w6t5g"
      },
      "source": [
        "from shapely.geometry import Polygon, Point, LineString, MultiPolygon"
      ],
      "execution_count": 8,
      "outputs": []
    },
    {
      "cell_type": "code",
      "metadata": {
        "colab": {
          "base_uri": "https://localhost:8080/",
          "height": 344
        },
        "id": "a0cWz15G65o4",
        "outputId": "266c4545-bd4a-41dc-c0b0-5c5764e400b9"
      },
      "source": [
        "p1 = Polygon([(0,0),(1,0),(1,1),(0,1)])\n",
        "p2 = Polygon([(0,0),(1,0),(1,1)])\n",
        "p3 = Polygon([(2,0),(3,0),(3,1),(2,1)])\n",
        "p4 = LineString([(0,1),(3,0),(1,1)])\n",
        "p5 = Point(1.5,0.5)\n",
        "p6 = Polygon([(1,0),(1.5,0.4),(2,0)])\n",
        "p7 = Polygon([(1,1),(1.5,0.6),(2,1)])\n",
        "p8 = MultiPolygon([p6, p7])\n",
        "g = gpd.GeoSeries([p1,p2,p3,p4,p5,p8])\n",
        "g.plot(cmap='tab10', figsize=(15,8))"
      ],
      "execution_count": 9,
      "outputs": [
        {
          "output_type": "execute_result",
          "data": {
            "text/plain": [
              "<matplotlib.axes._subplots.AxesSubplot at 0x7fcd5655d9d0>"
            ]
          },
          "metadata": {
            "tags": []
          },
          "execution_count": 9
        },
        {
          "output_type": "display_data",
          "data": {
            "image/png": "[encoded data removed]",
            "text/plain": [
              "<Figure size 1080x576 with 1 Axes>"
            ]
          },
          "metadata": {
            "tags": [],
            "needs_background": "light"
          }
        }
      ]
    },
    {
      "cell_type": "code",
      "metadata": {
        "colab": {
          "base_uri": "https://localhost:8080/",
          "height": 500
        },
        "id": "PpDYOb5SNxjv",
        "outputId": "0db0ef2f-38ac-416d-801b-da93e5e1cd8d"
      },
      "source": [
        "rj.plot(color='white', edgecolor='red', figsize=(15,8))"
      ],
      "execution_count": 10,
      "outputs": [
        {
          "output_type": "execute_result",
          "data": {
            "text/plain": [
              "<matplotlib.axes._subplots.AxesSubplot at 0x7fcd3f027a10>"
            ]
          },
          "metadata": {
            "tags": []
          },
          "execution_count": 10
        },
        {
          "output_type": "display_data",
          "data": {
            "image/png": "[encoded data removed]",
            "text/plain": [
              "<Figure size 1080x576 with 1 Axes>"
            ]
          },
          "metadata": {
            "tags": [],
            "needs_background": "light"
          }
        }
      ]
    },
    {
      "cell_type": "code",
      "metadata": {
        "colab": {
          "base_uri": "https://localhost:8080/",
          "height": 500
        },
        "id": "QmT5341SO3tO",
        "outputId": "6285e440-8a21-4410-d0b4-29de70e4ae68"
      },
      "source": [
        "rj_mun = rj[rj['NM_MUNICIP'] == 'RIO DE JANEIRO']\n",
        "rj_mun.plot(color='yellow', edgecolor='red', figsize=(15,8))"
      ],
      "execution_count": 11,
      "outputs": [
        {
          "output_type": "execute_result",
          "data": {
            "text/plain": [
              "<matplotlib.axes._subplots.AxesSubplot at 0x7fcd3df18250>"
            ]
          },
          "metadata": {
            "tags": []
          },
          "execution_count": 11
        },
        {
          "output_type": "display_data",
          "data": {
            "image/png": "[encoded data removed]",
            "text/plain": [
              "<Figure size 1080x576 with 1 Axes>"
            ]
          },
          "metadata": {
            "tags": [],
            "needs_background": "light"
          }
        }
      ]
    },
    {
      "cell_type": "code",
      "metadata": {
        "colab": {
          "base_uri": "https://localhost:8080/",
          "height": 80
        },
        "id": "h9MNJLlFPYm9",
        "outputId": "01091a47-8d33-46dc-e913-9007657825a4"
      },
      "source": [
        "rj_mun"
      ],
      "execution_count": 12,
      "outputs": [
        {
          "output_type": "execute_result",
          "data": {
            "text/html": [
              "<div>\n",
              "<style scoped>\n",
              "    .dataframe tbody tr th:only-of-type {\n",
              "        vertical-align: middle;\n",
              "    }\n",
              "\n",
              "    .dataframe tbody tr th {\n",
              "        vertical-align: top;\n",
              "    }\n",
              "\n",
              "    .dataframe thead th {\n",
              "        text-align: right;\n",
              "    }\n",
              "</style>\n",
              "<table border=\"1\" class=\"dataframe\">\n",
              "  <thead>\n",
              "    <tr style=\"text-align: right;\">\n",
              "      <th></th>\n",
              "      <th>ID</th>\n",
              "      <th>CD_GEOCODM</th>\n",
              "      <th>NM_MUNICIP</th>\n",
              "      <th>geometry</th>\n",
              "    </tr>\n",
              "  </thead>\n",
              "  <tbody>\n",
              "    <tr>\n",
              "      <th>67</th>\n",
              "      <td>1535</td>\n",
              "      <td>3304557</td>\n",
              "      <td>RIO DE JANEIRO</td>\n",
              "      <td>MULTIPOLYGON (((-43.12376 -22.80712, -43.12380...</td>\n",
              "    </tr>\n",
              "  </tbody>\n",
              "</table>\n",
              "</div>"
            ],
            "text/plain": [
              "      ID  ...                                           geometry\n",
              "67  1535  ...  MULTIPOLYGON (((-43.12376 -22.80712, -43.12380...\n",
              "\n",
              "[1 rows x 4 columns]"
            ]
          },
          "metadata": {
            "tags": []
          },
          "execution_count": 12
        }
      ]
    },
    {
      "cell_type": "code",
      "metadata": {
        "id": "1UTYok05Pzjv"
      },
      "source": [
        "import os\n",
        "dir = '/content/Mapas/RJ_Munic'\n",
        "if not os.path.exists(dir):\n",
        "  os.makedirs(dir)"
      ],
      "execution_count": 13,
      "outputs": []
    },
    {
      "cell_type": "code",
      "metadata": {
        "id": "NwYhsdIlQT2Q"
      },
      "source": [
        "rj_mun.to_file(dir + '/RJ_Munic.shp')"
      ],
      "execution_count": 14,
      "outputs": []
    },
    {
      "cell_type": "code",
      "metadata": {
        "colab": {
          "base_uri": "https://localhost:8080/",
          "height": 500
        },
        "id": "QgD-u-VUQq8N",
        "outputId": "fc8adbbc-f206-4386-e6a4-cfc1bc097d62"
      },
      "source": [
        "rj_mun = gpd.read_file('/content/Mapas/RJ_Munic/RJ_Munic.shp')\n",
        "rj_mun.plot(color='yellow', edgecolor='red', figsize=(15,8))"
      ],
      "execution_count": 15,
      "outputs": [
        {
          "output_type": "execute_result",
          "data": {
            "text/plain": [
              "<matplotlib.axes._subplots.AxesSubplot at 0x7fcd3de983d0>"
            ]
          },
          "metadata": {
            "tags": []
          },
          "execution_count": 15
        },
        {
          "output_type": "display_data",
          "data": {
            "image/png": "[encoded data removed]",
            "text/plain": [
              "<Figure size 1080x576 with 1 Axes>"
            ]
          },
          "metadata": {
            "tags": [],
            "needs_background": "light"
          }
        }
      ]
    },
    {
      "cell_type": "code",
      "metadata": {
        "colab": {
          "base_uri": "https://localhost:8080/",
          "height": 80
        },
        "id": "wbxj2hV_RREr",
        "outputId": "1d75dae2-623f-42ad-8f61-1ebf3ae2ecb3"
      },
      "source": [
        "rj_mun"
      ],
      "execution_count": 16,
      "outputs": [
        {
          "output_type": "execute_result",
          "data": {
            "text/html": [
              "<div>\n",
              "<style scoped>\n",
              "    .dataframe tbody tr th:only-of-type {\n",
              "        vertical-align: middle;\n",
              "    }\n",
              "\n",
              "    .dataframe tbody tr th {\n",
              "        vertical-align: top;\n",
              "    }\n",
              "\n",
              "    .dataframe thead th {\n",
              "        text-align: right;\n",
              "    }\n",
              "</style>\n",
              "<table border=\"1\" class=\"dataframe\">\n",
              "  <thead>\n",
              "    <tr style=\"text-align: right;\">\n",
              "      <th></th>\n",
              "      <th>ID</th>\n",
              "      <th>CD_GEOCODM</th>\n",
              "      <th>NM_MUNICIP</th>\n",
              "      <th>geometry</th>\n",
              "    </tr>\n",
              "  </thead>\n",
              "  <tbody>\n",
              "    <tr>\n",
              "      <th>0</th>\n",
              "      <td>1535</td>\n",
              "      <td>3304557</td>\n",
              "      <td>RIO DE JANEIRO</td>\n",
              "      <td>MULTIPOLYGON (((-43.12376 -22.80712, -43.12380...</td>\n",
              "    </tr>\n",
              "  </tbody>\n",
              "</table>\n",
              "</div>"
            ],
            "text/plain": [
              "     ID  ...                                           geometry\n",
              "0  1535  ...  MULTIPOLYGON (((-43.12376 -22.80712, -43.12380...\n",
              "\n",
              "[1 rows x 4 columns]"
            ]
          },
          "metadata": {
            "tags": []
          },
          "execution_count": 16
        }
      ]
    },
    {
      "cell_type": "code",
      "metadata": {
        "colab": {
          "base_uri": "https://localhost:8080/"
        },
        "id": "HOsS7z2Gafgi",
        "outputId": "69296357-7a16-45b9-da74-fa213ec4a6da"
      },
      "source": [
        "texto = 'https://raw.githubusercontent.com/julianovale/BB_Evolution/main/Arquivos/dados.txt'\n",
        "dados = pd.read_table(texto)\n",
        "\n",
        "# x = longitude e y = latitude\n",
        "# zip = gera tuplas\n",
        "\n",
        "x = zip(dados.Longitude, dados.Latitude)\n",
        "list(x)"
      ],
      "execution_count": 19,
      "outputs": [
        {
          "output_type": "execute_result",
          "data": {
            "text/plain": [
              "[(-43.4629464, -23.0164552),\n",
              " (-43.3369111, -22.9431995),\n",
              " (-43.300517, -22.873849),\n",
              " (-43.4127033, -22.9847874),\n",
              " (-51.92528, -14.235004),\n",
              " (-43.477504700000004, -23.0189271),\n",
              " (-43.247108700000005, -22.933574899999996),\n",
              " (-43.192534, -22.9823004),\n",
              " (-51.92528, -14.235004),\n",
              " (-43.175411, -22.9364023),\n",
              " (-43.262945, -22.918533),\n",
              " (-49.0606445, -26.922570899999997),\n",
              " (-43.303056, -23.013213),\n",
              " (-43.1698189, -22.952982000000002),\n",
              " (-43.1849587, -22.970644399999998),\n",
              " (-43.354812100000004, -23.0097423),\n",
              " (-49.0606445, -26.922570899999997),\n",
              " (-43.3461644, -22.938107000000002),\n",
              " (-43.181953799999995, -22.9497255),\n",
              " (-43.2327966, -22.9218818),\n",
              " (-43.3939698, -22.9995191),\n",
              " (-43.280851500000004, -22.9055097),\n",
              " (-43.1875152, -22.934498),\n",
              " (-43.5016663, -23.019108300000003),\n",
              " (-43.45904960000001, -23.023215),\n",
              " (-43.233903399999996, -22.9936095),\n",
              " (-43.1987716, -22.985367999999998),\n",
              " (-43.230810600000005, -22.9771863),\n",
              " (-43.2525968, -22.926766600000004),\n",
              " (-51.92528, -14.235004),\n",
              " (-43.185293200000004, -22.9705243),\n",
              " (-43.4178323, -22.999070800000002),\n",
              " (-43.3079711, -23.014110100000003),\n",
              " (-43.350626, -22.988612),\n",
              " (-43.4152111, -22.9980081),\n",
              " (-43.1991054, -22.9813387),\n",
              " (-43.3512914, -22.9896669),\n",
              " (-43.3429376, -23.010187),\n",
              " (-43.39087120000001, -22.9707213),\n",
              " (-43.243517100000005, -22.9346407),\n",
              " (-43.366458, -22.972905100000002),\n",
              " (-43.1746269, -22.9339077),\n",
              " (-43.3146766, -22.884440899999998),\n",
              " (-43.455927700000004, -23.0201576),\n",
              " (-43.339657, -22.927809399999997),\n",
              " (-43.2033031, -22.959471399999998),\n",
              " (-43.3042714, -23.0129403),\n",
              " (-43.3349694, -22.9335983),\n",
              " (-43.4238344, -23.0098391),\n",
              " (-43.2191217, -22.924991600000002),\n",
              " (-43.4620287, -23.0115208),\n",
              " (-43.3218109, -23.011961499999998),\n",
              " (-43.1882774, -22.9747273),\n",
              " (-43.2190591, -22.982975),\n",
              " (-43.187836, -22.9304337),\n",
              " (-43.1884186, -22.9755896),\n",
              " (-43.22722460000001, -22.974258499999998),\n",
              " (-43.371955799999995, -23.010559100000002),\n",
              " (-43.271286700000005, -22.891328100000003),\n",
              " (-43.333724100000005, -22.939416199999997),\n",
              " (-43.184532, -22.967693),\n",
              " (-43.36488920000001, -22.9270807),\n",
              " (-43.4230345, -22.9700655),\n",
              " (-43.2194874, -22.916013),\n",
              " (-43.2393691, -22.9352401),\n",
              " (-49.0606445, -26.922570899999997),\n",
              " (-43.4486897, -23.0151452),\n",
              " (-43.2416167, -22.910668100000002),\n",
              " (-43.181953799999995, -22.9497255),\n",
              " (-43.1728149, -22.9257177),\n",
              " (-43.1917783, -22.9841595),\n",
              " (-43.2134744, -22.8131655),\n",
              " (-49.0607072, -26.922511699999998),\n",
              " (-43.212846, -22.9143101),\n",
              " (-43.263105100000004, -22.918986899999997),\n",
              " (-43.289423799999994, -22.8932691),\n",
              " (-49.0607072, -26.922511699999998),\n",
              " (-43.2268412, -22.9130826),\n",
              " (-43.3867886, -22.9990702),\n",
              " (-43.261517, -22.917856),\n",
              " (-43.485062799999994, -23.0075233),\n",
              " (-43.2026112, -22.967561399999997),\n",
              " (-43.1915536, -22.977822800000002),\n",
              " (-43.3123112, -22.8451007),\n",
              " (-43.184161100000004, -22.932965),\n",
              " (-43.2167178, -22.9121223),\n",
              " (-43.216990100000004, -22.9231386),\n",
              " (-43.209990999999995, -22.9841057),\n",
              " (-43.222371, -22.8955376),\n",
              " (-43.2191916, -22.9203441),\n",
              " (-43.31392279999999, -23.011963199999997),\n",
              " (-49.0607072, -26.922511699999998),\n",
              " (-43.1815524, -22.9638235),\n",
              " (-43.1897455, -22.974922199999998),\n",
              " (-43.2216869, -22.986442999999998),\n",
              " (-43.2020925, -22.9823826),\n",
              " (-43.18848303, -22.95315826),\n",
              " (-43.2160536, -22.983539800000003),\n",
              " (-43.3593726, -22.9282366),\n",
              " (-43.1898495, -22.972043399999997),\n",
              " (-43.2285123, -22.9773264),\n",
              " (-43.1916196, -22.938382999999998),\n",
              " (-49.0606445, -26.922570899999997),\n",
              " (-43.3438675, -22.892336),\n",
              " (-49.0607072, -26.922511699999998),\n",
              " (-43.24264, -22.932473),\n",
              " (-43.4057724, -22.9642557),\n",
              " (-43.2624917, -22.8946184),\n",
              " (-43.288048700000004, -22.8986609),\n",
              " (-43.1799723, -22.940163199999997),\n",
              " (-43.2538314, -22.898009899999998),\n",
              " (-43.4842904, -23.003292899999998),\n",
              " (-43.2537823, -22.8980022),\n",
              " (-43.358576899999996, -23.0014814),\n",
              " (-43.220585, -22.98376),\n",
              " (-43.3483764, -22.9893419),\n",
              " (-43.29042570000001, -22.8896686),\n",
              " (-49.0606445, -26.922570899999997),\n",
              " (-43.36143679999999, -22.9297641),\n",
              " (-43.360270299999996, -23.010676999999998),\n",
              " (-43.1765581, -22.963565399999997),\n",
              " (-43.1877583, -22.9743764),\n",
              " (-43.2324441, -22.966093),\n",
              " (-43.4865062, -23.0214327),\n",
              " (-43.247058100000004, -22.9217664),\n",
              " (-43.194011700000004, -22.9585276),\n",
              " (-43.1887297, -22.9118228),\n",
              " (-43.2261305, -22.9197975),\n",
              " (-49.0606445, -26.922570899999997),\n",
              " (-43.1913727, -22.9807241),\n",
              " (-51.92528, -14.235004),\n",
              " (-43.3071205, -22.8836117),\n",
              " (-49.0607072, -26.922511699999998),\n",
              " (-43.23221470000001, -22.915237100000002),\n",
              " (-43.182422700000004, -22.9439559),\n",
              " (-43.192744, -22.9768326),\n",
              " (-43.2130667, -22.9224829),\n",
              " (-43.1960305, -22.811465899999998),\n",
              " (-43.1757093, -22.936084100000002),\n",
              " (-43.370547200000004, -23.010404),\n",
              " (-43.178053399999996, -22.9650949),\n",
              " (-43.1602615, -22.945463),\n",
              " (-43.3006, -22.844164000000003),\n",
              " (-43.211067, -22.914524399999998),\n",
              " (-43.253468100000006, -22.919176999999998),\n",
              " (-43.204268400000004, -22.98081),\n",
              " (-43.1728965, -22.9068467),\n",
              " (-43.174453899999996, -22.935080600000003),\n",
              " (-43.3340573, -22.870013600000004),\n",
              " (-43.4811844, -23.0309651),\n",
              " (-43.192121500000006, -22.971978699999998),\n",
              " (-43.482164700000006, -23.0052391),\n",
              " (-43.1877078, -22.973921),\n",
              " (-43.270658000000005, -22.892622),\n",
              " (-43.25810372, -22.92539714),\n",
              " (-43.203227000000005, -22.9656654),\n",
              " (-43.2225219, -22.9836855),\n",
              " (-43.239416999999996, -22.9314212),\n",
              " (-43.3088161, -22.823149899999997),\n",
              " (-43.1760966, -22.941022399999998),\n",
              " (-43.168647299999996, -22.9617997),\n",
              " (-43.2248521, -22.9850766),\n",
              " (-43.35627, -22.989303600000003),\n",
              " (-43.2279002, -22.983330600000002),\n",
              " (-43.31448820000001, -22.884634),\n",
              " (-51.92528, -14.235004),\n",
              " (-43.45853820000001, -23.0194698),\n",
              " (-43.338114700000006, -22.9400579),\n",
              " (-43.1876156, -22.955417899999997),\n",
              " (-43.462069299999996, -23.0209988),\n",
              " (-43.1843503, -22.9548321),\n",
              " (-43.2069205, -22.9841421),\n",
              " (-49.0607072, -26.922511699999998),\n",
              " (-43.209435799999994, -22.9627038),\n",
              " (-43.565928899999996, -22.9076391),\n",
              " (-43.351561, -22.8570279),\n",
              " (-43.3266334, -22.8902352),\n",
              " (-43.3321203, -22.9402785),\n",
              " (-43.2225218, -22.982156200000002),\n",
              " (-43.2184572, -22.9853841),\n",
              " (-43.1965879, -22.985972600000004),\n",
              " (-43.3719338, -23.0053633),\n",
              " (-43.1931512, -22.8175736),\n",
              " (-43.177642999999996, -22.9664279),\n",
              " (-43.17671, -22.940934),\n",
              " (-43.4535475, -23.0170009),\n",
              " (-49.0607072, -26.922511699999998),\n",
              " (-51.92528, -14.235004),\n",
              " (-43.2432855, -22.9362098),\n",
              " (-43.332866499999994, -23.0070129),\n",
              " (-49.0607072, -26.922511699999998),\n",
              " (-43.228576399999994, -22.9261646),\n",
              " (-43.257213799999995, -22.858181),\n",
              " (-43.2268, -22.984360000000002),\n",
              " (-43.3514073, -22.9898342),\n",
              " (-43.2027225, -22.9607405),\n",
              " (-43.1841028, -22.9348454),\n",
              " (-43.1924781, -22.965643),\n",
              " (-43.2265568, -22.9831813),\n",
              " (-43.1884198, -22.9305204),\n",
              " (-51.92528, -14.235004),\n",
              " (-43.3489426, -22.933215),\n",
              " (-43.3753154, -22.956388399999998),\n",
              " (-43.174394799999995, -22.938710399999998),\n",
              " (-43.2470455, -22.9313591),\n",
              " (-43.253420500000004, -22.9927349),\n",
              " (-43.2358575, -22.9283986),\n",
              " (-43.46215, -23.0203736),\n",
              " (-43.399205200000004, -22.9729228),\n",
              " (-43.3713559, -22.9376227),\n",
              " (-43.2378325, -22.9268652),\n",
              " (-43.1902898, -22.9759868),\n",
              " (-43.229642999999996, -22.9877581),\n",
              " (-43.179413200000006, -22.9400581),\n",
              " (-43.1958255, -22.9773771),\n",
              " (-43.2050852, -22.9825551),\n",
              " (-49.0607072, -26.922511699999998),\n",
              " (-43.1767244, -22.961776999999998),\n",
              " (-43.2966701, -22.889072199999998),\n",
              " (-43.238258200000004, -22.9230868),\n",
              " (-43.2044141, -22.985163),\n",
              " (-43.178785299999994, -22.964071899999997),\n",
              " (-43.2161544, -22.984568200000002),\n",
              " (-43.173381799999994, -22.9641851),\n",
              " (-43.3442489, -22.940850199999996),\n",
              " (-43.242094, -22.934546899999997),\n",
              " (-43.195434999999996, -22.981806),\n",
              " (-43.3760874, -22.9253418),\n",
              " (-43.2250543, -22.977385199999997),\n",
              " (-43.388255900000004, -22.9982747),\n",
              " (-43.20499279999999, -22.958903600000003),\n",
              " (-43.19386420000001, -22.985611),\n",
              " (-43.3394951, -22.9410831),\n",
              " (-43.2916359, -22.91104),\n",
              " (-43.22461989999999, -22.9809822),\n",
              " (-43.231848299999996, -22.927663),\n",
              " (-43.3524299, -23.0036839),\n",
              " (-43.5118336, -23.022719),\n",
              " (-43.2600307, -22.9174835),\n",
              " (-43.20223, -22.98452),\n",
              " (-43.319261600000004, -23.009313),\n",
              " (-49.0607072, -26.922511699999998),\n",
              " (-43.1962348, -22.7957081),\n",
              " (-51.92528, -14.235004),\n",
              " (-43.1800064, -22.9251456),\n",
              " (-43.436179100000004, -23.0091905),\n",
              " (-43.3514073, -22.9898342),\n",
              " (-51.92528, -14.235004),\n",
              " (-43.2027217, -22.966426100000003),\n",
              " (-43.221154999999996, -22.920525),\n",
              " (-43.250291499999996, -22.9392253),\n",
              " (-43.1893245, -22.953336399999998),\n",
              " (-43.1728965, -22.9068467),\n",
              " (-43.3937, -22.9677069),\n",
              " (-43.2634141, -22.854929000000002),\n",
              " (-49.0607072, -26.922511699999998),\n",
              " (-43.258998999999996, -22.923713600000003),\n",
              " (-43.1770674, -22.9648842),\n",
              " (-43.20879179999999, -22.9161764),\n",
              " (-43.1749054, -22.936537),\n",
              " (-43.186419, -22.933822),\n",
              " (-43.1940255, -22.8100579),\n",
              " (-43.28739279999999, -22.8322997),\n",
              " (-43.4862951, -23.0041741),\n",
              " (-43.1902385, -22.954434),\n",
              " (-43.3322334, -22.9398783),\n",
              " (-43.347569799999995, -23.0016466),\n",
              " (-43.2275386, -22.924321399999997),\n",
              " (-43.1768044, -22.9397654),\n",
              " (-51.92528, -14.235004),\n",
              " (-43.3560991, -22.903435100000003),\n",
              " (-43.3868343, -22.965710100000003),\n",
              " (-51.92528, -14.235004),\n",
              " (-43.3062316, -22.863172100000003),\n",
              " (-43.3332675, -22.9362986),\n",
              " (-43.207685, -22.9234526),\n",
              " (-43.2725953, -22.8917844),\n",
              " (-49.0607072, -26.922511699999998),\n",
              " (-49.0606445, -26.922570899999997),\n",
              " (-43.19287429999999, -22.986262600000003),\n",
              " (-43.2558893, -22.9171205),\n",
              " (-43.1782351, -22.938698000000002),\n",
              " (-43.2363253, -22.9291646),\n",
              " (-43.19942474, -22.9812603),\n",
              " (-43.45420883, -23.01978145),\n",
              " (-51.92528, -14.235004),\n",
              " (-51.92528, -14.235004),\n",
              " (-43.284153, -22.8989117),\n",
              " (-49.0606445, -26.922570899999997),\n",
              " (-43.185531899999994, -22.9444528),\n",
              " (-43.264959999999995, -22.904212),\n",
              " (-43.198341299999996, -22.9866359),\n",
              " (-43.2237138, -22.9144735),\n",
              " (-43.2005223, -22.982789899999997),\n",
              " (-43.347589500000005, -23.0051727),\n",
              " (-43.2412299, -22.9150797),\n",
              " (-49.0607072, -26.922511699999998),\n",
              " (-43.1903859, -22.970948),\n",
              " (-43.209956299999995, -22.9614202),\n",
              " (-51.92528, -14.235004),\n",
              " (-43.3884384, -22.998844899999998),\n",
              " (-43.355779, -22.987231899999998),\n",
              " (-43.198197799999996, -22.977684699999998),\n",
              " (-43.2876982, -22.894749899999997),\n",
              " (-49.0606445, -26.922570899999997),\n",
              " (-43.3348902, -22.946246399999996),\n",
              " (-43.3255066, -23.0072765),\n",
              " (-49.0607072, -26.922511699999998),\n",
              " (-43.2275588, -22.9249656),\n",
              " (-43.4160008, -22.9996468),\n",
              " (-43.237137700000005, -22.9197753),\n",
              " (-43.33578943, -22.94231692),\n",
              " (-43.3625914, -22.941221600000002),\n",
              " (-43.1778895, -22.9335305),\n",
              " (-43.261825, -22.870635),\n",
              " (-43.3025369, -23.012194),\n",
              " (-43.2585722, -22.9278527),\n",
              " (-49.0607072, -26.922511699999998),\n",
              " (-43.2452832, -22.9139405),\n",
              " (-49.0607072, -26.922511699999998),\n",
              " (-43.3091472, -23.0096657),\n",
              " (-43.2446696, -22.9152992),\n",
              " (-43.177859600000005, -22.923723000000003),\n",
              " (-43.1827119, -22.9563499),\n",
              " (-51.92528, -14.235004),\n",
              " (-43.3512914, -22.9896669),\n",
              " (-43.189183, -22.9649988),\n",
              " (-43.3400299, -22.936237),\n",
              " (-43.3369111, -22.9431995),\n",
              " (-43.2624917, -22.8946184),\n",
              " (-49.0607072, -26.922511699999998),\n",
              " (-43.201692, -22.9632845),\n",
              " (-43.1816378, -22.967726199999998),\n",
              " (-43.2390188, -22.9315094),\n",
              " (-51.92528, -14.235004),\n",
              " (-49.0607072, -26.922511699999998),\n",
              " (-43.3081951, -23.009618399999997),\n",
              " (-43.4168784, -23.0011116),\n",
              " (-43.1772454, -22.9360783),\n",
              " (-43.1771641, -22.962283399999997),\n",
              " (-43.176255499999996, -22.9618722),\n",
              " (-43.3900596, -22.969997199999998),\n",
              " (-51.92528, -14.235004),\n",
              " (-43.3110015, -22.8206561),\n",
              " (-43.3550205, -22.9247346),\n",
              " (-43.222902399999995, -22.9870612),\n",
              " (-43.4529946, -23.021516000000002),\n",
              " (-43.192233, -22.97767),\n",
              " (-43.197162, -22.9767524),\n",
              " (-43.3163994, -23.0114384),\n",
              " (-43.1970258, -22.9083081),\n",
              " (-43.2896, -22.9102027),\n",
              " (-43.2005223, -22.982789899999997),\n",
              " (-43.311220899999995, -22.847507999999998),\n",
              " (-51.92528, -14.235004),\n",
              " (-49.0607072, -26.922511699999998),\n",
              " (-49.0606445, -26.922570899999997),\n",
              " (-43.191921, -22.986556600000004),\n",
              " (-43.1863593, -22.9127763),\n",
              " (-43.2160536, -22.983539800000003),\n",
              " (-43.2915337, -22.8913925),\n",
              " (-43.208259999999996, -22.915819),\n",
              " (-43.186403600000006, -22.9700092),\n",
              " (-43.3628244, -22.932259100000003),\n",
              " (-43.216755400000004, -22.9661014),\n",
              " (-43.2157992, -22.9622913),\n",
              " (-49.0607072, -26.922511699999998),\n",
              " (-43.2496742, -22.940298300000002),\n",
              " (-43.1900179, -22.9806797),\n",
              " (-43.471357299999994, -23.0213951),\n",
              " (-43.1972349, -22.983311999999998),\n",
              " (-43.4168784, -23.0011116),\n",
              " (-43.3822252, -22.9501085),\n",
              " (-43.307728999999995, -22.9037842),\n",
              " (-43.2581471, -22.8569773),\n",
              " (-43.376420700000004, -22.9995987),\n",
              " (-43.3136749, -22.895120300000002),\n",
              " (-49.0607072, -26.922511699999998),\n",
              " (-43.2284055, -22.977956699999996),\n",
              " (-43.4677614, -23.017151000000002),\n",
              " (-43.18552570000001, -22.96668),\n",
              " (-43.340601899999996, -22.9365251),\n",
              " (-43.3669841, -23.010019600000003),\n",
              " (-43.2350082, -22.9852305),\n",
              " (-43.3843059, -22.9490696),\n",
              " (-43.2069606, -22.9819301),\n",
              " (-43.19433370000001, -22.986873000000003),\n",
              " (-43.2157115, -22.912292899999997),\n",
              " (-43.443228600000005, -23.0110825),\n",
              " (-49.0607072, -26.922511699999998),\n",
              " (-43.23200679999999, -22.9866053),\n",
              " (-43.4885156, -23.0242199),\n",
              " (-43.3636934, -22.9355954),\n",
              " (-43.2647456, -22.8409307),\n",
              " (-43.2660665, -22.874658800000002),\n",
              " (-43.228103499999996, -22.9875375),\n",
              " (-43.1844343, -22.9541678),\n",
              " (-43.238462, -22.9335158),\n",
              " (-43.308434000000005, -22.8960002),\n",
              " (-43.183341799999994, -22.967644699999997),\n",
              " (-43.4230345, -22.9700655),\n",
              " (-43.2091923, -22.985356200000002),\n",
              " (-43.3339898, -22.9393997),\n",
              " (-43.229991399999996, -22.914928),\n",
              " (-43.2025117, -22.8180829),\n",
              " (-43.4671338, -23.017882399999998),\n",
              " (-43.177968, -22.9667943),\n",
              " (-43.1841966, -22.9349646),\n",
              " (-43.1959711, -22.953605399999997),\n",
              " (-43.2391789, -22.9216522),\n",
              " (-43.34142, -23.009819),\n",
              " (-43.186834499999996, -22.952872199999998),\n",
              " (-43.178783, -22.9660472),\n",
              " (-43.3928011, -22.917605),\n",
              " (-43.2084265, -22.9864031),\n",
              " (-43.189280200000006, -22.985263),\n",
              " (-43.2102124, -22.9850292),\n",
              " (-43.3846467, -22.9665766),\n",
              " (-49.0607072, -26.922511699999998),\n",
              " (-43.4479724, -23.012061499999998),\n",
              " (-43.30347929999999, -22.899929999999998),\n",
              " (-43.2541342, -22.918041199999998),\n",
              " (-43.174426600000004, -22.9556742),\n",
              " (-43.337534000000005, -22.9447863),\n",
              " (-43.422792, -23.009443),\n",
              " (-43.1929738, -22.983369800000002),\n",
              " (-43.4862951, -23.0041741),\n",
              " (-43.3315591, -22.943118),\n",
              " (-43.226774600000006, -22.986331),\n",
              " (-43.33047979999999, -22.9440319),\n",
              " (-43.4884349, -23.0245378),\n",
              " (-43.2274865, -22.973062600000002),\n",
              " (-43.17501068, -22.93827248),\n",
              " (-43.2431834, -22.904232999999998),\n",
              " (-49.0607072, -26.922511699999998),\n",
              " (-43.2998081, -23.0095813),\n",
              " (-43.2416167, -22.910668100000002),\n",
              " (-43.567285999999996, -22.9071879),\n",
              " (-43.327051700000005, -23.0013555),\n",
              " (-43.265649200000006, -22.9132437),\n",
              " (-43.2509454, -22.9029241),\n",
              " (-43.206932, -22.981027899999997),\n",
              " (-43.2046335, -22.9863444),\n",
              " (-43.397386, -22.9711519),\n",
              " (-43.3513576, -22.9925659),\n",
              " (-43.1935696, -22.9813799),\n",
              " (-43.1863097, -22.971688399999998),\n",
              " (-43.327307899999994, -22.9354146),\n",
              " (-49.0607072, -26.922511699999998),\n",
              " (-51.92528, -14.235004),\n",
              " (-43.175132, -22.929487899999998),\n",
              " (-43.1775654, -22.963991699999998),\n",
              " (-43.3320142, -22.9424383),\n",
              " (-43.2918405, -22.907098899999998),\n",
              " (-43.4057724, -22.9642557),\n",
              " (-43.3977396, -22.893788699999998),\n",
              " (-43.2559496, -22.863107),\n",
              " (-43.202837200000005, -22.9654259),\n",
              " (-43.168647299999996, -22.9617997),\n",
              " (-43.2302549, -22.924239399999998),\n",
              " (-43.2227152, -22.9832593),\n",
              " (-43.288592, -22.8976669),\n",
              " (-43.174612100000004, -22.9621662),\n",
              " (-43.367357, -23.009222),\n",
              " (-43.3915124, -23.0014878),\n",
              " (-43.23420170000001, -22.9170033),\n",
              " (-43.1820749, -22.9656056),\n",
              " (-43.1778415, -22.9194856),\n",
              " (-43.201124, -22.980382000000002),\n",
              " (-51.92528, -14.235004),\n",
              " (-43.1751698, -22.939097600000004),\n",
              " (-43.2806695, -22.894589399999997),\n",
              " (-43.24392, -22.923826199999997),\n",
              " (-43.190194, -22.983191),\n",
              " (-43.233965999999995, -22.922645000000003),\n",
              " (-43.415724700000005, -22.9987109),\n",
              " (-49.0606445, -26.922570899999997),\n",
              " (-43.2278149, -22.9786891),\n",
              " (-43.2721297, -22.9138736),\n",
              " (-43.207536, -22.9716261),\n",
              " (-43.4545242, -23.018064000000003),\n",
              " (-43.2084589, -22.9860503),\n",
              " (-43.31529929999999, -23.011899300000003),\n",
              " (-43.1835627, -22.9672016),\n",
              " (-43.314879, -22.837908),\n",
              " (-43.222501, -22.986017),\n",
              " (-51.92528, -14.235004),\n",
              " (-43.190104299999994, -22.9369336),\n",
              " (-43.1893467, -22.9662517),\n",
              " (-43.30173679999999, -22.904735199999998),\n",
              " (-43.351393200000004, -22.9471896),\n",
              " (-43.208065000000005, -22.98507),\n",
              " (-43.1913165, -22.9658986),\n",
              " (-43.1921749, -22.9824641),\n",
              " (-43.2369513, -22.9294652),\n",
              " (-43.2258078, -22.9208389),\n",
              " (-49.0607072, -26.922511699999998),\n",
              " (-43.193653600000005, -22.9847341),\n",
              " (-43.25100820000001, -22.903122800000002),\n",
              " (-43.278843, -22.8904266),\n",
              " (-43.206492700000005, -22.9742588),\n",
              " (-43.2030175, -22.9816115),\n",
              " (-43.4517541, -23.0217939),\n",
              " (-43.244212100000006, -22.9139363),\n",
              " (-43.1863593, -22.9127763),\n",
              " (-43.2236829, -22.9800057),\n",
              " (-43.2001144, -22.9843328),\n",
              " (-43.1968155, -22.9836707),\n",
              " (-43.3165775, -22.886978699999997),\n",
              " (-43.4844835, -23.021155899999997),\n",
              " (-43.185736799999994, -22.948521399999997),\n",
              " (-43.19507217, -22.98452759),\n",
              " (-43.182817299999996, -22.9137284),\n",
              " (-49.0607072, -26.922511699999998),\n",
              " (-43.19319229999999, -22.975483999999998),\n",
              " (-43.2589535, -22.9039744),\n",
              " (-43.2821343, -22.8301826),\n",
              " (-43.17837539999999, -22.9252),\n",
              " (-43.4757268, -23.0219055),\n",
              " (-43.189352500000005, -22.9717255),\n",
              " (-43.377024, -22.926560000000002),\n",
              " (-43.2135119, -22.9231986),\n",
              " (-43.2201917, -22.923229100000004),\n",
              " (-43.2114451, -22.9813273),\n",
              " (-43.18027070000001, -22.9204723),\n",
              " (-43.45110579999999, -23.0085759),\n",
              " (-43.17759960000001, -22.936960199999998),\n",
              " (-43.1734162, -22.96419),\n",
              " (-43.2449747, -22.935944),\n",
              " (-43.2705901, -22.8855555),\n",
              " (-43.3379575, -22.8766629),\n",
              " (-43.2598099, -22.918342300000003),\n",
              " (-43.23512645, -22.98051224),\n",
              " (-43.2577219, -22.9272902),\n",
              " (-43.351166, -22.99155),\n",
              " (-43.4823995, -23.0206185),\n",
              " (-43.1755142, -22.9607869),\n",
              " (-43.367554999999996, -23.0087275),\n",
              " (-43.285979499999996, -22.910535600000003),\n",
              " (-51.92528, -14.235004),\n",
              " (-43.2547542, -22.9211012),\n",
              " (-43.2031372, -22.9817353),\n",
              " (-43.6083427, -22.9042514),\n",
              " (-43.1917219, -22.909821100000002),\n",
              " (-43.1960583, -22.9852503),\n",
              " (-51.92528, -14.235004),\n",
              " (-43.3851843, -22.965141199999998),\n",
              " (-43.2020852, -22.960252399999998),\n",
              " (-43.231277, -22.983838000000002),\n",
              " (-43.4884553, -23.0244827),\n",
              " (-43.384533000000005, -22.970633),\n",
              " (-43.2200509, -22.923491100000003),\n",
              " (-43.4585782, -23.0145229),\n",
              " (-43.2064542, -22.9843021),\n",
              " (-43.181228999999995, -22.913176999999997),\n",
              " (-43.1804268, -22.966304),\n",
              " (-43.3988674, -22.9985436),\n",
              " (-49.0607072, -26.922511699999998),\n",
              " (-43.1991054, -22.9813387),\n",
              " (-43.2826695, -22.8986819),\n",
              " (-43.2334919, -22.927738100000003),\n",
              " (-43.34213270000001, -23.0033878),\n",
              " (-43.3847044, -22.984240399999997),\n",
              " (-43.336966100000005, -22.935215499999998),\n",
              " (-43.2126233, -22.9821264),\n",
              " (-43.171726799999995, -22.9402184),\n",
              " (-49.0606445, -26.922570899999997),\n",
              " (-43.1840715, -22.946366100000002),\n",
              " (-43.181618, -22.966603),\n",
              " (-43.2228698, -22.9156343),\n",
              " (-43.2114086, -22.984946899999997),\n",
              " (-43.1958255, -22.9773771),\n",
              " (-43.243030299999994, -22.904515),\n",
              " (-43.225705, -22.981282),\n",
              " (-43.196835899999996, -22.9769345),\n",
              " (-43.1802158, -22.9222824),\n",
              " (-43.175121600000004, -22.9625892),\n",
              " (-43.1700744, -22.9628564),\n",
              " (-51.92528, -14.235004),\n",
              " (-43.2208998, -22.964415399999996),\n",
              " (-43.2575476, -22.906392800000003),\n",
              " (-43.248958200000004, -22.9259465),\n",
              " (-43.30175429999999, -22.8452158),\n",
              " (-43.1702157, -22.9624527),\n",
              " (-43.1795205, -22.9287344),\n",
              " (-43.2519593, -22.916182),\n",
              " (-43.1753102, -22.9647117),\n",
              " (-43.2662341, -22.913398),\n",
              " (-43.1947183, -22.9870677),\n",
              " (-51.92528, -14.235004),\n",
              " (-43.1728965, -22.9068467),\n",
              " (-43.4795486, -23.020682100000002),\n",
              " (-43.210409000000006, -22.803416),\n",
              " (-43.1812722, -22.9682302),\n",
              " (-43.459306, -23.0249568),\n",
              " (-43.4988239, -22.993991),\n",
              " (-43.21915870000001, -22.980752600000002),\n",
              " (-43.2056612, -22.9592839),\n",
              " (-43.1939775, -22.9510652),\n",
              " (-43.288592, -22.8976669),\n",
              " (-43.176651899999996, -22.9342863),\n",
              " (-43.19048529999999, -22.9867112),\n",
              " (-43.2126606, -22.918165),\n",
              " (-43.24711622, -22.91267469),\n",
              " (-43.1922227, -22.975448899999996),\n",
              " (-43.1917633, -22.9833663),\n",
              " (-43.2912028, -22.8971746),\n",
              " (-43.1854905, -22.945719399999998),\n",
              " (-49.0607072, -26.922511699999998),\n",
              " (-43.1891975, -22.986779300000002),\n",
              " (-43.3511217, -22.990668399999997),\n",
              " (-43.190456, -22.949987399999998),\n",
              " (-43.461878399999996, -23.010545),\n",
              " (-43.5053354, -23.018677899999997),\n",
              " (-43.175392200000005, -22.965328600000003),\n",
              " (-43.191438500000004, -22.972388600000002),\n",
              " (-43.1804906, -22.966208399999996),\n",
              " (-43.2064542, -22.9843021),\n",
              " (-43.2253114, -22.9843603),\n",
              " (-43.2137289, -22.983558),\n",
              " (-43.1789852, -22.9258361),\n",
              " (-43.198906, -22.9833366),\n",
              " (-43.3367854, -22.8822806),\n",
              " (-43.3760874, -22.9253418),\n",
              " (-43.2990555, -23.007413800000002),\n",
              " (-43.2229747, -22.9236227),\n",
              " (-43.4403973, -23.003312899999997),\n",
              " (-43.3540588, -22.903096899999998),\n",
              " (-43.270748499999996, -22.901463699999997),\n",
              " (-43.233266799999996, -22.9149704),\n",
              " (-43.3235666, -23.0041844),\n",
              " (-43.4249081, -23.002531100000002),\n",
              " (-43.310126000000004, -23.007908800000003),\n",
              " (-51.92528, -14.235004),\n",
              " (-43.160278600000005, -22.943606600000003),\n",
              " (-43.2656346, -22.891391100000003),\n",
              " (-43.1911146, -22.972047399999997),\n",
              " (-43.1967886, -22.953916800000002),\n",
              " (-43.1857716, -22.946913100000003),\n",
              " (-43.176445, -22.9660885),\n",
              " (-43.181228999999995, -22.913176999999997),\n",
              " (-43.2215076, -22.984057),\n",
              " (-43.482164700000006, -23.0052391),\n",
              " (-43.201875, -22.985584),\n",
              " (-43.1763164, -22.9162318),\n",
              " (-43.4506926, -23.0150396),\n",
              " (-51.92528, -14.235004),\n",
              " (-49.0606445, -26.922570899999997),\n",
              " (-49.0607072, -26.922511699999998),\n",
              " (-43.2225028, -22.986291100000003),\n",
              " (-43.1997218, -22.978811999999998),\n",
              " (-43.189345200000005, -22.9744854),\n",
              " (-43.466599, -23.020038699999997),\n",
              " (-43.2277693, -22.98865),\n",
              " (-43.1904506, -22.9545687),\n",
              " (-43.3532149, -22.9894603),\n",
              " (-43.190072, -22.930861899999996),\n",
              " (-49.0607072, -26.922511699999998),\n",
              " (-43.335256099999995, -22.944459),\n",
              " (-43.361411600000004, -22.8782226),\n",
              " (-43.2172725, -22.9233539),\n",
              " (-43.350217799999996, -22.9902842),\n",
              " (-43.4412758, -23.0054772),\n",
              " (-43.350626, -22.988612),\n",
              " (-43.329184000000005, -23.008814899999997),\n",
              " (-43.351795, -22.990557),\n",
              " (-43.1761425, -22.9378576),\n",
              " (-43.21718679999999, -22.9834207),\n",
              " (-43.271286700000005, -22.891328100000003),\n",
              " (-43.3669841, -23.010019600000003),\n",
              " (-43.1765984, -22.9640812),\n",
              " (-43.1953302, -22.9820688),\n",
              " (-43.1728965, -22.9068467),\n",
              " (-43.224244399999996, -22.9157359),\n",
              " (-43.341249100000006, -22.874186899999998),\n",
              " (-43.2336855, -22.9308203),\n",
              " (-43.3269725, -23.0103867),\n",
              " (-43.383050399999995, -23.003567899999997),\n",
              " (-43.3029885, -22.886039399999998),\n",
              " (-43.1903966, -22.9387574),\n",
              " (-43.2805378, -22.890510100000004),\n",
              " (-49.0607072, -26.922511699999998),\n",
              " (-43.2907007, -22.9085885),\n",
              " (-43.23217929999999, -22.9251142),\n",
              " (-43.191631, -22.984619),\n",
              " (-43.276338700000004, -22.8934405),\n",
              " (-43.44686110000001, -23.011249600000003),\n",
              " (-43.396505700000006, -22.9714181),\n",
              " (-43.2329365, -22.9318609),\n",
              " (-43.220412599999996, -22.894174),\n",
              " (-49.0607072, -26.922511699999998),\n",
              " (-43.2867902, -22.891278500000002),\n",
              " (-43.4403973, -23.003312899999997),\n",
              " (-43.17638, -22.938312399999997),\n",
              " (-43.189992600000004, -22.9804187),\n",
              " (-43.1861407, -22.935661399999997),\n",
              " (-43.1755391, -22.930182199999997),\n",
              " (-43.2189383, -22.9205622),\n",
              " (-43.352746100000005, -22.9345262),\n",
              " (-43.3936549, -23.0030629),\n",
              " (-49.0607072, -26.922511699999998),\n",
              " (-43.4098996, -22.965780399999996),\n",
              " (-43.329184000000005, -23.008814899999997),\n",
              " (-43.20859229999999, -22.9818444),\n",
              " (-49.0606445, -26.922570899999997),\n",
              " (-49.0606445, -26.922570899999997),\n",
              " (-43.3823541, -22.9724246),\n",
              " (-49.0607072, -26.922511699999998),\n",
              " (-43.4378114, -23.009953699999997),\n",
              " (-51.92528, -14.235004),\n",
              " (-43.2244484, -22.986268),\n",
              " (-43.2604973, -22.9189493),\n",
              " (-49.0606445, -26.922570899999997),\n",
              " (-51.92528, -14.235004),\n",
              " (-43.19276047, -22.98453522),\n",
              " (-49.0607072, -26.922511699999998),\n",
              " (-43.1865654, -22.97383308),\n",
              " (-43.198593200000005, -22.984667),\n",
              " (-43.1834342, -22.9294977),\n",
              " (-43.201662, -22.961303),\n",
              " (-43.3489229, -23.005171),\n",
              " (-43.2220596, -22.9852113),\n",
              " (-51.92528, -14.235004),\n",
              " (-43.221647600000004, -22.9815393),\n",
              " (-43.322049799999995, -23.005833399999997),\n",
              " (-43.298900700000004, -22.9054687),\n",
              " (-43.178652, -22.960428),\n",
              " (-43.1753414, -22.9403146),\n",
              " (-43.3038598, -22.8440327),\n",
              " (-43.1689997, -22.961959),\n",
              " (-43.185720700000005, -22.9704062),\n",
              " (-43.2528451, -22.9189468),\n",
              " (-43.33047979999999, -22.9440319),\n",
              " (-43.4710614, -23.0188934),\n",
              " (-43.3843705, -22.9648799),\n",
              " (-43.1987716, -22.985367999999998),\n",
              " (-43.3340756, -22.943047699999997),\n",
              " (-49.0607072, -26.922511699999998),\n",
              " (-43.220892600000006, -22.9192017),\n",
              " (-43.240193299999994, -22.9261638),\n",
              " (-43.3021475, -22.906738),\n",
              " (-43.2090461, -22.984149),\n",
              " (-43.1745585, -22.9390338),\n",
              " (-43.175132, -22.929487899999998),\n",
              " (-43.1781025, -22.815607),\n",
              " (-43.334079700000004, -22.9367223),\n",
              " (-43.2012037, -22.794865100000003),\n",
              " (-43.3868343, -22.965710100000003),\n",
              " (-43.2228299, -22.984187699999996),\n",
              " (-43.383050399999995, -23.003567899999997),\n",
              " (-43.223087299999996, -22.9155046),\n",
              " (-43.202205600000006, -22.964157999999998),\n",
              " (-51.92528, -14.235004),\n",
              " (-43.1793215, -22.964713500000002),\n",
              " (-43.2126233, -22.9821264),\n",
              " (-43.47901470000001, -23.0216736),\n",
              " (-43.3851843, -22.965141199999998),\n",
              " (-43.21864654, -22.96175371),\n",
              " (-43.1874765, -22.9561176),\n",
              " (-43.468876, -23.029379000000002),\n",
              " (-43.21134489999999, -22.8080939),\n",
              " (-43.366458, -22.972905100000002),\n",
              " (-49.0607072, -26.922511699999998),\n",
              " (-43.241129799999996, -22.9287743),\n",
              " (-43.1904169, -22.9794229),\n",
              " (-43.3090154, -22.869818300000002),\n",
              " (-43.4884281, -23.0229283),\n",
              " (-43.2426828, -22.9183219),\n",
              " (-43.1949606, -22.958518100000003),\n",
              " (-43.18339879999999, -22.9658894),\n",
              " (-43.3832891, -22.950061399999996),\n",
              " (-43.216680100000005, -22.9829553),\n",
              " (-49.0607072, -26.922511699999998),\n",
              " (-43.2376917, -22.9297681),\n",
              " (-43.3900066, -23.001890300000003),\n",
              " (-43.22675770000001, -22.976770000000002),\n",
              " (-43.2231428, -22.9197094),\n",
              " (-43.2073905, -22.9584139),\n",
              " (-43.2027999, -22.9657933),\n",
              " (-51.92528, -14.235004),\n",
              " (-43.2209953, -22.986787300000003),\n",
              " (-43.355779, -22.987231899999998),\n",
              " (-43.178188899999995, -22.965911600000002),\n",
              " (-43.19942474, -22.9812603),\n",
              " (-43.232128100000004, -22.9317128),\n",
              " (-43.1941266, -22.976291500000002),\n",
              " (-43.448306099999996, -23.0152016),\n",
              " (-43.192238200000006, -22.985155399999996),\n",
              " (-43.1896362, -22.975788),\n",
              " (-43.1900064, -22.9763242),\n",
              " (-43.393840399999995, -22.932724399999998),\n",
              " (-43.201124, -22.980382000000002),\n",
              " (-43.3116046, -23.0090016),\n",
              " (-43.2223304, -22.9262966),\n",
              " (-43.1828625, -22.9654413),\n",
              " (-43.332256799999996, -22.940267300000002),\n",
              " (-43.301395299999996, -23.0124766),\n",
              " (-43.3435784, -23.0100315),\n",
              " (-51.92528, -14.235004),\n",
              " (-43.1861886, -22.933873499999997),\n",
              " (-43.2308946, -22.987175399999998),\n",
              " (-49.0607072, -26.922511699999998),\n",
              " (-43.3435784, -23.0100315),\n",
              " (-43.232526899999996, -22.9844674),\n",
              " (-43.331790399999996, -22.881747600000004),\n",
              " (-43.3639136, -22.9350235),\n",
              " (-43.5334735, -22.875628699999996),\n",
              " (-43.3769346, -22.997514199999998),\n",
              " (-43.333138, -22.939283399999997),\n",
              " (-51.92528, -14.235004),\n",
              " (-43.4403973, -23.003312899999997),\n",
              " (-43.3633085, -22.9292641),\n",
              " (-43.27248942, -22.90800291),\n",
              " (-43.2419479, -22.920222),\n",
              " (-51.92528, -14.235004),\n",
              " (-43.3334375, -22.864461399999996),\n",
              " (-43.183939200000005, -22.9358294),\n",
              " (-43.3273778, -23.002778399999997),\n",
              " (-43.2600065, -22.921627899999997),\n",
              " (-43.2172809, -22.986083100000002),\n",
              " (-43.1770389, -22.932145300000002),\n",
              " (-43.1906061, -22.983911499999998),\n",
              " (-43.2662287, -22.8834318),\n",
              " (-43.3146811, -22.843702399999998),\n",
              " (-43.4164756, -22.9794337),\n",
              " (-43.3119768, -23.0141563),\n",
              " (-43.174093799999994, -22.961419),\n",
              " (-43.1758125, -22.929888100000003),\n",
              " (-43.1886126, -22.97725),\n",
              " (-43.1814114, -22.9686695),\n",
              " (-43.3152502, -22.896279),\n",
              " (-43.1862956, -22.933621300000002),\n",
              " (-43.3964006, -22.9709735),\n",
              " (-49.0607072, -26.922511699999998),\n",
              " (-43.279552, -22.8913524),\n",
              " (-43.3124417, -23.0086812),\n",
              " (-51.92528, -14.235004),\n",
              " (-43.192613, -22.965604000000003),\n",
              " (-43.3588826, -23.009962100000003),\n",
              " (-43.3869378, -22.9153171),\n",
              " (-43.3778946, -22.9730522),\n",
              " (-43.177608299999996, -22.9662493),\n",
              " (-43.280068299999996, -22.898377),\n",
              " (-43.338612700000006, -23.0059712),\n",
              " (-43.1925474, -22.965456699999997),\n",
              " (-43.244032700000005, -22.9153266),\n",
              " (-43.4183893, -22.999569),\n",
              " (-49.0607072, -26.922511699999998),\n",
              " (-51.92528, -14.235004),\n",
              " (-43.1698514, -22.962310000000002),\n",
              " (-43.1958945, -22.984852),\n",
              " (-43.1991045, -22.985627899999997),\n",
              " (-43.3890513, -22.9980332),\n",
              " (-43.2234869, -22.9139384),\n",
              " (-51.92528, -14.235004),\n",
              " (-43.3065521, -22.8552448),\n",
              " (-43.462041299999996, -23.0252407),\n",
              " (-43.3547291, -22.9895691),\n",
              " (-43.186912, -22.972904999999997),\n",
              " (-43.1846903, -22.9468098),\n",
              " (-43.3866529, -22.9681516),\n",
              " (-43.2281161, -22.928165300000003),\n",
              " (-43.175456700000005, -22.965204800000002),\n",
              " (-43.2821982, -22.900061899999997),\n",
              " (-43.22565, -22.9870014),\n",
              " (-51.92528, -14.235004),\n",
              " (-43.319568200000006, -22.8479232),\n",
              " (-43.1698514, -22.962310000000002),\n",
              " (-43.483112799999994, -23.006156),\n",
              " (-43.2215773, -22.9819336),\n",
              " (-49.0607072, -26.922511699999998),\n",
              " (-43.1975468, -22.938351),\n",
              " (-43.2156369, -22.922107500000003),\n",
              " (-43.2320026, -22.9756555),\n",
              " (-43.1770527, -22.9625281),\n",
              " (-43.3926253, -22.9709859),\n",
              " (-43.3921967, -23.0006704),\n",
              " (-43.5526713, -22.9153431),\n",
              " (-49.0606445, -26.922570899999997),\n",
              " (-43.228790999999994, -22.9787907),\n",
              " (-43.209956299999995, -22.9614202),\n",
              " (-43.190695, -22.9409155),\n",
              " (-43.3264839, -23.007106),\n",
              " (-43.3676559, -23.010641699999997),\n",
              " (-43.4168784, -23.0011116),\n",
              " (-43.3675463, -22.927031699999997),\n",
              " (-43.220235200000005, -22.9214312),\n",
              " (-43.2610344, -22.9180393),\n",
              " (-43.3950641, -22.964881),\n",
              " (-43.366458, -22.972905100000002),\n",
              " (-43.1769343, -22.9640584),\n",
              " (-43.207488, -22.811728),\n",
              " (-43.2290119, -22.9862663),\n",
              " (-43.186659000000006, -22.911873999999997),\n",
              " (-43.271530799999994, -22.8730598),\n",
              " (-43.1857581, -22.9689185),\n",
              " (-43.22154329999999, -22.985057100000002),\n",
              " (-43.3927407, -23.0024893),\n",
              " (-43.185145399999996, -22.9148992),\n",
              " (-43.4812196, -23.0204622),\n",
              " (-43.4160295, -22.999789800000002),\n",
              " (-43.19220429999999, -22.981154699999998),\n",
              " (-43.2714363, -22.9024901),\n",
              " (-43.3715684, -22.880979999999997),\n",
              " (-43.360079, -22.921463),\n",
              " (-43.470224, -23.017360699999998),\n",
              " (-43.193387, -22.951010399999998),\n",
              " (-43.1882253, -22.9498021),\n",
              " (-43.178971600000004, -22.964060399999997),\n",
              " (-43.210726, -22.810569),\n",
              " (-43.3320315, -22.931613199999997),\n",
              " (-43.225204299999994, -22.978097),\n",
              " (-43.271286700000005, -22.891328100000003),\n",
              " (-43.1745302, -22.921852800000003),\n",
              " (-43.35868920000001, -22.9716182),\n",
              " (-43.24408270000001, -22.9278917),\n",
              " (-43.2836341, -22.88983),\n",
              " (-43.194540100000005, -22.951465300000002),\n",
              " (-43.4040185, -23.0006583),\n",
              " (-51.92528, -14.235004),\n",
              " (-43.1879301, -22.9740622),\n",
              " (-43.2195296, -22.9242318),\n",
              " (-43.4848799, -23.0066633),\n",
              " (-43.3985211, -22.998992899999998),\n",
              " (-43.3851843, -22.965141199999998),\n",
              " (-43.4098996, -22.965780399999996),\n",
              " (-43.1679237, -22.9623333),\n",
              " (-43.3511217, -22.990668399999997),\n",
              " (-43.182654600000006, -22.9414371),\n",
              " (-43.511540999999994, -23.020022),\n",
              " (-43.243286100000006, -22.9289683),\n",
              " (-43.3255066, -23.0072765),\n",
              " (-43.1763915, -22.932361800000002),\n",
              " (-43.1916784, -22.940896),\n",
              " (-43.4024229, -22.9925252),\n",
              " (-43.200033000000005, -22.814933800000002),\n",
              " (-43.174377, -22.964321899999998),\n",
              " (-43.2229672, -22.9223663),\n",
              " (-43.194377, -22.938252),\n",
              " (-43.3653158, -23.008128600000003),\n",
              " (-43.2080035, -22.985009899999998),\n",
              " (-43.1884011, -22.9524495),\n",
              " (-43.450776, -23.017938100000002),\n",
              " (-43.231013399999995, -22.921425199999998),\n",
              " (-43.349639700000004, -22.9569512),\n",
              " (-43.187385, -22.9750051),\n",
              " (-43.349693, -22.9928766),\n",
              " (-51.92528, -14.235004),\n",
              " (-43.2051009, -22.8109423),\n",
              " (-43.2432336, -22.929541),\n",
              " (-51.92528, -14.235004),\n",
              " (-43.4570007, -23.024560100000002),\n",
              " (-43.2680118, -22.9995132),\n",
              " (-43.235636299999996, -22.9806981),\n",
              " (-43.3575255, -22.9728447),\n",
              " (-43.4361785, -23.009239899999997),\n",
              " (-43.2168528, -22.984464300000003),\n",
              " (-43.1831869, -22.9335162),\n",
              " (-43.3512914, -22.9896669),\n",
              " (-43.1948994, -22.8106317),\n",
              " (-43.17837539999999, -22.9252),\n",
              " (-43.2624917, -22.8946184),\n",
              " (-43.3382092, -22.9435999),\n",
              " (-43.186221, -22.953318799999998),\n",
              " (-43.4641291, -22.9828668),\n",
              " (-43.3444334, -22.8795943),\n",
              " (-49.0607072, -26.922511699999998),\n",
              " (-43.2188755, -22.9847411),\n",
              " (-43.315717799999994, -23.010966699999997),\n",
              " (-43.3280533, -22.860312699999998),\n",
              " (-43.3077479, -23.011171899999997),\n",
              " (-43.179212299999996, -22.93066208),\n",
              " (-51.92528, -14.235004),\n",
              " (-43.482297499999994, -23.0176276),\n",
              " (-43.1779546, -22.923847100000003),\n",
              " (-43.195175299999995, -22.981904699999998),\n",
              " (-51.92528, -14.235004),\n",
              " (-43.204032, -22.803273),\n",
              " (-43.190206200000006, -22.91254),\n",
              " (-43.4132592, -22.9739785),\n",
              " (-43.21099091, -22.98061562),\n",
              " (-43.206893799999996, -22.9612035),\n",
              " (-43.5625257, -22.877089),\n",
              " (-43.1753425, -22.9336715),\n",
              " (-43.22194587, -22.91614598),\n",
              " (-43.1906909, -22.953350399999998),\n",
              " (-43.1796199, -22.964477399999996),\n",
              " (-43.2735112, -22.8953771),\n",
              " (-43.3148671, -22.8304305),\n",
              " (-43.22096989999999, -22.9833699),\n",
              " (-43.437394, -23.004445),\n",
              " (-43.2085367, -22.9201724),\n",
              " (-49.0607072, -26.922511699999998),\n",
              " (-43.1907736, -22.9798908),\n",
              " (-43.24086, -22.914703),\n",
              " (-43.4873816, -23.0226595),\n",
              " (-43.1752205, -22.935861499999998),\n",
              " (-43.1773044, -22.9342392),\n",
              " (-43.340068, -22.944589),\n",
              " (-43.4230768, -22.970201),\n",
              " ...]"
            ]
          },
          "metadata": {
            "tags": []
          },
          "execution_count": 19
        }
      ]
    },
    {
      "cell_type": "code",
      "metadata": {
        "id": "QTvNUMmNaskL"
      },
      "source": [
        "geometry = [Point(x) for x in zip(dados.Longitude, dados.Latitude)]"
      ],
      "execution_count": 20,
      "outputs": []
    },
    {
      "cell_type": "code",
      "metadata": {
        "id": "dLhERDgqavdF"
      },
      "source": [
        "crs = {'proj' : 'latlong',\n",
        "       'ellps' : 'WGS84',\n",
        "       'datum' : 'WGS84',\n",
        "       'no_defs' : True}\n",
        "\n",
        "geo_dados = gpd.GeoDataFrame(dados, crs = crs, geometry = geometry)"
      ],
      "execution_count": 21,
      "outputs": []
    },
    {
      "cell_type": "code",
      "metadata": {
        "colab": {
          "base_uri": "https://localhost:8080/",
          "height": 282
        },
        "id": "Iju6hIlmaxvK",
        "outputId": "4a23c3fd-9c47-4162-edb7-00d98c37e7d2"
      },
      "source": [
        "geo_dados.plot()"
      ],
      "execution_count": 22,
      "outputs": [
        {
          "output_type": "execute_result",
          "data": {
            "text/plain": [
              "<matplotlib.axes._subplots.AxesSubplot at 0x7fcd3d705050>"
            ]
          },
          "metadata": {
            "tags": []
          },
          "execution_count": 22
        },
        {
          "output_type": "display_data",
          "data": {
            "image/png": "[encoded data removed]",
            "text/plain": [
              "<Figure size 432x288 with 1 Axes>"
            ]
          },
          "metadata": {
            "tags": [],
            "needs_background": "light"
          }
        }
      ]
    },
    {
      "cell_type": "code",
      "metadata": {
        "id": "9maT9l2uaz0z"
      },
      "source": [
        "import os\n",
        "dir = '/content/Mapas/RJ_DATASET'\n",
        "if not os.path.exists(dir):\n",
        "  os.makedirs(dir)"
      ],
      "execution_count": 23,
      "outputs": []
    },
    {
      "cell_type": "code",
      "metadata": {
        "id": "C9eNrQ5fa2xs"
      },
      "source": [
        "geo_dados.to_file(dir + '/DATASET.shp')"
      ],
      "execution_count": 24,
      "outputs": []
    },
    {
      "cell_type": "code",
      "metadata": {
        "colab": {
          "base_uri": "https://localhost:8080/",
          "height": 282
        },
        "id": "Ar7ixVlma49E",
        "outputId": "c030bf87-ddfd-409b-fc67-fb9bf0c610f4"
      },
      "source": [
        "geo_dados.plot(alpha = 0.2)"
      ],
      "execution_count": 25,
      "outputs": [
        {
          "output_type": "execute_result",
          "data": {
            "text/plain": [
              "<matplotlib.axes._subplots.AxesSubplot at 0x7fcd3d66c350>"
            ]
          },
          "metadata": {
            "tags": []
          },
          "execution_count": 25
        },
        {
          "output_type": "display_data",
          "data": {
            "image/png": "[encoded data removed]",
            "text/plain": [
              "<Figure size 432x288 with 1 Axes>"
            ]
          },
          "metadata": {
            "tags": [],
            "needs_background": "light"
          }
        }
      ]
    },
    {
      "cell_type": "code",
      "metadata": {
        "id": "YAe4GZ3tbS40"
      },
      "source": [
        "rj = gpd.read_file('/content/Mapas/RJ_Munic/RJ_Munic.shp')\n",
        "geo_dados = gpd.read_file('/content/Mapas/RJ_DATASET/DATASET.shp')"
      ],
      "execution_count": 27,
      "outputs": []
    },
    {
      "cell_type": "code",
      "metadata": {
        "colab": {
          "base_uri": "https://localhost:8080/"
        },
        "id": "q15Wc9eybuBD",
        "outputId": "9140b17d-db18-4c18-b236-7e4b2fc98101"
      },
      "source": [
        "# para ver o CRS - Coordinate Reference System\n",
        "\n",
        "\n",
        "rj.crs"
      ],
      "execution_count": 29,
      "outputs": [
        {
          "output_type": "execute_result",
          "data": {
            "text/plain": [
              "<Geographic 2D CRS: EPSG:4674>\n",
              "Name: SIRGAS 2000\n",
              "Axis Info [ellipsoidal]:\n",
              "- Lat[north]: Geodetic latitude (degree)\n",
              "- Lon[east]: Geodetic longitude (degree)\n",
              "Area of Use:\n",
              "- name: Latin America - Central America and South America - onshore and offshore. Brazil - onshore and offshore.\n",
              "- bounds: (-122.19, -59.87, -25.28, 32.72)\n",
              "Datum: Sistema de Referencia Geocentrico para las AmericaS 2000\n",
              "- Ellipsoid: GRS 1980\n",
              "- Prime Meridian: Greenwich"
            ]
          },
          "metadata": {
            "tags": []
          },
          "execution_count": 29
        }
      ]
    },
    {
      "cell_type": "code",
      "metadata": {
        "colab": {
          "base_uri": "https://localhost:8080/"
        },
        "id": "F94sI8KWb4By",
        "outputId": "e82dc19a-3c1b-4917-b8eb-de1735fadc2b"
      },
      "source": [
        "geo_dados.crs"
      ],
      "execution_count": 30,
      "outputs": [
        {
          "output_type": "execute_result",
          "data": {
            "text/plain": [
              "<Geographic 2D CRS: EPSG:4326>\n",
              "Name: WGS 84\n",
              "Axis Info [ellipsoidal]:\n",
              "- Lat[north]: Geodetic latitude (degree)\n",
              "- Lon[east]: Geodetic longitude (degree)\n",
              "Area of Use:\n",
              "- name: World.\n",
              "- bounds: (-180.0, -90.0, 180.0, 90.0)\n",
              "Datum: World Geodetic System 1984 ensemble\n",
              "- Ellipsoid: WGS 84\n",
              "- Prime Meridian: Greenwich"
            ]
          },
          "metadata": {
            "tags": []
          },
          "execution_count": 30
        }
      ]
    },
    {
      "cell_type": "markdown",
      "metadata": {
        "id": "FioGUiU0dF9z"
      },
      "source": [
        "# Para afinar os sistemas de referencias:\n",
        "\n",
        "sites: https://www.spatialreference.org/\n",
        "\n",
        "https://www.lapig.iesa.ufg.br/lapig/cursos_online/gvsig/a_projeo_utm_no_brasil.html\n",
        "\n",
        "Entrar em EPSG e procurar o SIRGAS2000, escolher o melhor sistema/fuso. Rio de Janeiro: EPSG:31983: SIRGAS 2000 / UTM zone 23S para coordenadas UTM (metros ou quilômetros).\n",
        "\n",
        "Entrar e escolher: \"Proj4\". \n",
        "\n",
        "É só copiar: \"+proj=utm +zone=23 +south +ellps=GRS80 +towgs84=0,0,0,0,0,0,0 +units=m +no_defs\"\n",
        "\n",
        "Toquei o \"m\" de units para \"km\"."
      ]
    },
    {
      "cell_type": "code",
      "metadata": {
        "id": "7m3bqlvLdFlO"
      },
      "source": [
        "rj = rj.to_crs('+proj=utm +zone=23 +south +ellps=GRS80 +towgs84=0,0,0,0,0,0,0 +units=km +no_defs')\n",
        "geo_dados = geo_dados.to_crs('+proj=utm +zone=23 +south +ellps=GRS80 +towgs84=0,0,0,0,0,0,0 +units=km +no_defs')"
      ],
      "execution_count": 31,
      "outputs": []
    },
    {
      "cell_type": "code",
      "metadata": {
        "colab": {
          "base_uri": "https://localhost:8080/"
        },
        "id": "XbHlj7O5b_H2",
        "outputId": "ec0d2364-7896-43d3-b4eb-cc093135b295"
      },
      "source": [
        "rj.crs"
      ],
      "execution_count": 32,
      "outputs": [
        {
          "output_type": "execute_result",
          "data": {
            "text/plain": [
              "<Bound CRS: +proj=utm +zone=23 +south +ellps=GRS80 +towgs84=0, ...>\n",
              "Name: unknown\n",
              "Axis Info [cartesian]:\n",
              "- E[east]: Easting (kilometre)\n",
              "- N[north]: Northing (kilometre)\n",
              "Area of Use:\n",
              "- undefined\n",
              "Coordinate Operation:\n",
              "- name: Transformation from unknown to WGS84\n",
              "- method: Position Vector transformation (geog2D domain)\n",
              "Datum: Unknown based on GRS80 ellipsoid\n",
              "- Ellipsoid: GRS 1980\n",
              "- Prime Meridian: Greenwich\n",
              "Source CRS: unknown"
            ]
          },
          "metadata": {
            "tags": []
          },
          "execution_count": 32
        }
      ]
    },
    {
      "cell_type": "code",
      "metadata": {
        "colab": {
          "base_uri": "https://localhost:8080/"
        },
        "id": "a4GYyTZ0eVKC",
        "outputId": "cd89973b-db9a-4c59-f0f4-e3a96c23737f"
      },
      "source": [
        "geo_dados.crs"
      ],
      "execution_count": 33,
      "outputs": [
        {
          "output_type": "execute_result",
          "data": {
            "text/plain": [
              "<Bound CRS: +proj=utm +zone=23 +south +ellps=GRS80 +towgs84=0, ...>\n",
              "Name: unknown\n",
              "Axis Info [cartesian]:\n",
              "- E[east]: Easting (kilometre)\n",
              "- N[north]: Northing (kilometre)\n",
              "Area of Use:\n",
              "- undefined\n",
              "Coordinate Operation:\n",
              "- name: Transformation from unknown to WGS84\n",
              "- method: Position Vector transformation (geog2D domain)\n",
              "Datum: Unknown based on GRS80 ellipsoid\n",
              "- Ellipsoid: GRS 1980\n",
              "- Prime Meridian: Greenwich\n",
              "Source CRS: unknown"
            ]
          },
          "metadata": {
            "tags": []
          },
          "execution_count": 33
        }
      ]
    },
    {
      "cell_type": "code",
      "metadata": {
        "id": "Bqn9cZ1ZeZMu"
      },
      "source": [
        "# para gravar a atualização do CRS\n",
        "\n",
        "rj.to_file('/content/Mapas/RJ_Munic/RJ_Munic.shp')\n",
        "geo_dados.to_file('/content/Mapas/RJ_DATASET/DATASET.shp')"
      ],
      "execution_count": 36,
      "outputs": []
    },
    {
      "cell_type": "code",
      "metadata": {
        "id": "x4d21pSLefTr"
      },
      "source": [
        "rj = gpd.read_file('/content/Mapas/RJ_Munic/RJ_Munic.shp')\n",
        "geo_dados = gpd.read_file('/content/Mapas/RJ_DATASET/DATASET.shp')"
      ],
      "execution_count": 37,
      "outputs": []
    },
    {
      "cell_type": "code",
      "metadata": {
        "colab": {
          "base_uri": "https://localhost:8080/"
        },
        "id": "VbfLtgpgezEi",
        "outputId": "ed290938-daf8-4b2b-d9c8-dda35cbff4e6"
      },
      "source": [
        "rj.crs"
      ],
      "execution_count": 38,
      "outputs": [
        {
          "output_type": "execute_result",
          "data": {
            "text/plain": [
              "<Projected CRS: PROJCS[\"unknown\",GEOGCS[\"GCS_unknown\",DATUM[\"D_Unk ...>\n",
              "Name: unknown\n",
              "Axis Info [cartesian]:\n",
              "- [east]: Easting (kilometre)\n",
              "- [north]: Northing (kilometre)\n",
              "Area of Use:\n",
              "- undefined\n",
              "Coordinate Operation:\n",
              "- name: unnamed\n",
              "- method: Transverse Mercator\n",
              "Datum: D_Unknown_based_on_GRS80_ellipsoid\n",
              "- Ellipsoid: GRS 1980\n",
              "- Prime Meridian: Greenwich"
            ]
          },
          "metadata": {
            "tags": []
          },
          "execution_count": 38
        }
      ]
    },
    {
      "cell_type": "code",
      "metadata": {
        "colab": {
          "base_uri": "https://localhost:8080/"
        },
        "id": "ljbtHgIbe23A",
        "outputId": "17459c3f-4a15-41af-94d5-ad04252357cd"
      },
      "source": [
        "geo_dados.crs"
      ],
      "execution_count": 39,
      "outputs": [
        {
          "output_type": "execute_result",
          "data": {
            "text/plain": [
              "<Projected CRS: PROJCS[\"unknown\",GEOGCS[\"GCS_unknown\",DATUM[\"D_Unk ...>\n",
              "Name: unknown\n",
              "Axis Info [cartesian]:\n",
              "- [east]: Easting (kilometre)\n",
              "- [north]: Northing (kilometre)\n",
              "Area of Use:\n",
              "- undefined\n",
              "Coordinate Operation:\n",
              "- name: unnamed\n",
              "- method: Transverse Mercator\n",
              "Datum: D_Unknown_based_on_GRS80_ellipsoid\n",
              "- Ellipsoid: GRS 1980\n",
              "- Prime Meridian: Greenwich"
            ]
          },
          "metadata": {
            "tags": []
          },
          "execution_count": 39
        }
      ]
    },
    {
      "cell_type": "code",
      "metadata": {
        "colab": {
          "base_uri": "https://localhost:8080/",
          "height": 80
        },
        "id": "72SzVv8ne6vz",
        "outputId": "596aa2e8-32e3-44bf-bf83-1b46cf0ff002"
      },
      "source": [
        "rj"
      ],
      "execution_count": 40,
      "outputs": [
        {
          "output_type": "execute_result",
          "data": {
            "text/html": [
              "<div>\n",
              "<style scoped>\n",
              "    .dataframe tbody tr th:only-of-type {\n",
              "        vertical-align: middle;\n",
              "    }\n",
              "\n",
              "    .dataframe tbody tr th {\n",
              "        vertical-align: top;\n",
              "    }\n",
              "\n",
              "    .dataframe thead th {\n",
              "        text-align: right;\n",
              "    }\n",
              "</style>\n",
              "<table border=\"1\" class=\"dataframe\">\n",
              "  <thead>\n",
              "    <tr style=\"text-align: right;\">\n",
              "      <th></th>\n",
              "      <th>ID</th>\n",
              "      <th>CD_GEOCODM</th>\n",
              "      <th>NM_MUNICIP</th>\n",
              "      <th>geometry</th>\n",
              "    </tr>\n",
              "  </thead>\n",
              "  <tbody>\n",
              "    <tr>\n",
              "      <th>0</th>\n",
              "      <td>1535</td>\n",
              "      <td>3304557</td>\n",
              "      <td>RIO DE JANEIRO</td>\n",
              "      <td>MULTIPOLYGON (((692.576 7476.609, 692.572 7476...</td>\n",
              "    </tr>\n",
              "  </tbody>\n",
              "</table>\n",
              "</div>"
            ],
            "text/plain": [
              "     ID  ...                                           geometry\n",
              "0  1535  ...  MULTIPOLYGON (((692.576 7476.609, 692.572 7476...\n",
              "\n",
              "[1 rows x 4 columns]"
            ]
          },
          "metadata": {
            "tags": []
          },
          "execution_count": 40
        }
      ]
    }
  ]
}