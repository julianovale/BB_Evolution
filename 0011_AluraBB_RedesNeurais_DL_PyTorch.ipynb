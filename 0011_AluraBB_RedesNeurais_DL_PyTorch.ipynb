{
  "nbformat": 4,
  "nbformat_minor": 0,
  "metadata": {
    "colab": {
      "name": "0011_AluraBB_RedesNeurais_DL_PyTorch.ipynb",
      "provenance": [],
      "collapsed_sections": [],
      "authorship_tag": "ABX9TyMToW6BYqpfwrjEKCJZyH2K",
      "include_colab_link": true
    },
    "kernelspec": {
      "name": "python3",
      "display_name": "Python 3"
    },
    "language_info": {
      "name": "python"
    },
    "accelerator": "GPU"
  },
  "cells": [
    {
      "cell_type": "markdown",
      "metadata": {
        "id": "view-in-github",
        "colab_type": "text"
      },
      "source": [
        "<a href=\"https://colab.research.google.com/github/julianovale/BB_Evolution/blob/main/0011_AluraBB_RedesNeurais_DL_PyTorch.ipynb\" target=\"_parent\"><img src=\"https://colab.research.google.com/assets/colab-badge.svg\" alt=\"Open In Colab\"/></a>"
      ]
    },
    {
      "cell_type": "code",
      "metadata": {
        "id": "vJ-x_umZfDcH"
      },
      "source": [
        "import torch\n",
        "import numpy as np"
      ],
      "execution_count": null,
      "outputs": []
    },
    {
      "cell_type": "markdown",
      "metadata": {
        "id": "2SADzSHQgp69"
      },
      "source": [
        "### 1. transformando uma lista em um tensor\n",
        "### 2. tipos (mais comuns) de tensor"
      ]
    },
    {
      "cell_type": "code",
      "metadata": {
        "colab": {
          "base_uri": "https://localhost:8080/"
        },
        "id": "0t_7k8lEdfcC",
        "outputId": "c3d69b4d-44df-4f91-94f7-47813afc4ebd"
      },
      "source": [
        "lista = [[1,2,3],\n",
        "         [4,5,6]]\n",
        "\n",
        "tns = torch.Tensor(lista)\n",
        "print(tns.dtype)\n",
        "print(tns)\n",
        "print()\n",
        "\n",
        "tns = torch.FloatTensor(lista)\n",
        "print(tns.dtype)\n",
        "print(tns)\n",
        "print()\n",
        "\n",
        "tns = torch.DoubleTensor(lista)\n",
        "print(tns.dtype)\n",
        "print(tns)\n",
        "print()\n",
        "\n",
        "tns = torch.LongTensor(lista)\n",
        "print(tns.dtype)\n",
        "print(tns)"
      ],
      "execution_count": null,
      "outputs": [
        {
          "output_type": "stream",
          "text": [
            "torch.float32\n",
            "tensor([[1., 2., 3.],\n",
            "        [4., 5., 6.]])\n",
            "\n",
            "torch.float32\n",
            "tensor([[1., 2., 3.],\n",
            "        [4., 5., 6.]])\n",
            "\n",
            "torch.float64\n",
            "tensor([[1., 2., 3.],\n",
            "        [4., 5., 6.]], dtype=torch.float64)\n",
            "\n",
            "torch.int64\n",
            "tensor([[1, 2, 3],\n",
            "        [4, 5, 6]])\n"
          ],
          "name": "stdout"
        }
      ]
    },
    {
      "cell_type": "markdown",
      "metadata": {
        "id": "YxDnOmyag6Ij"
      },
      "source": [
        "### 3. transformando array numpy em tensor"
      ]
    },
    {
      "cell_type": "code",
      "metadata": {
        "colab": {
          "base_uri": "https://localhost:8080/"
        },
        "id": "-Putr8edee2v",
        "outputId": "cdd19fc7-2490-4049-8f70-415922b6da62"
      },
      "source": [
        "arr = np.random.rand(3,4)\n",
        "tns = torch.from_numpy(arr)\n",
        "\n",
        "print(arr)\n",
        "print(arr.dtype)\n",
        "\n",
        "print(tns)\n",
        "print(tns.dtype)"
      ],
      "execution_count": null,
      "outputs": [
        {
          "output_type": "stream",
          "text": [
            "[[0.74046841 0.02534408 0.21315688 0.49919017]\n",
            " [0.92243622 0.98688245 0.15262246 0.78888436]\n",
            " [0.02195713 0.9891748  0.5224067  0.45505407]]\n",
            "float64\n",
            "tensor([[0.7405, 0.0253, 0.2132, 0.4992],\n",
            "        [0.9224, 0.9869, 0.1526, 0.7889],\n",
            "        [0.0220, 0.9892, 0.5224, 0.4551]], dtype=torch.float64)\n",
            "torch.float64\n"
          ],
          "name": "stdout"
        }
      ]
    },
    {
      "cell_type": "markdown",
      "metadata": {
        "id": "H3fuGBCKhBTT"
      },
      "source": [
        "### 4. Gerando alguns tipos de tensores"
      ]
    },
    {
      "cell_type": "code",
      "metadata": {
        "colab": {
          "base_uri": "https://localhost:8080/"
        },
        "id": "u7p-8jBLfsuu",
        "outputId": "981a998a-e75f-4b01-dbee-797fb4d4d600"
      },
      "source": [
        "tns1 = torch.ones(2,3)\n",
        "tns0 = torch.zeros(4,5)\n",
        "tnsr = torch.randn(3,3) # distribuição normal\n",
        "\n",
        "print(tns1)\n",
        "print(tns0)\n",
        "print(tnsr)"
      ],
      "execution_count": null,
      "outputs": [
        {
          "output_type": "stream",
          "text": [
            "tensor([[1., 1., 1.],\n",
            "        [1., 1., 1.]])\n",
            "tensor([[0., 0., 0., 0., 0.],\n",
            "        [0., 0., 0., 0., 0.],\n",
            "        [0., 0., 0., 0., 0.],\n",
            "        [0., 0., 0., 0., 0.]])\n",
            "tensor([[ 0.4550,  0.1043,  1.9313],\n",
            "        [ 0.1965,  0.2660,  0.7449],\n",
            "        [-0.8233,  0.3073,  1.4318]])\n"
          ],
          "name": "stdout"
        }
      ]
    },
    {
      "cell_type": "markdown",
      "metadata": {
        "id": "qZ6Rq5kBhHE7"
      },
      "source": [
        "### 5. de tensor para array numpy"
      ]
    },
    {
      "cell_type": "code",
      "metadata": {
        "colab": {
          "base_uri": "https://localhost:8080/"
        },
        "id": "LFVpbxl_hHhs",
        "outputId": "1d5badd0-1a0a-4c90-a00c-26a654eb96dd"
      },
      "source": [
        "arr = tnsr.data.numpy()\n",
        "print(arr)\n",
        "print(type(arr))\n",
        "print(type(tnsr))"
      ],
      "execution_count": null,
      "outputs": [
        {
          "output_type": "stream",
          "text": [
            "[[ 0.4550155   0.10427653  1.9313488 ]\n",
            " [ 0.19650447  0.2660356   0.7449128 ]\n",
            " [-0.82333446  0.30727184  1.4317571 ]]\n",
            "<class 'numpy.ndarray'>\n",
            "<class 'torch.Tensor'>\n"
          ],
          "name": "stdout"
        }
      ]
    },
    {
      "cell_type": "markdown",
      "metadata": {
        "id": "dN0KnHFEhmY7"
      },
      "source": [
        "### 6. Indexação"
      ]
    },
    {
      "cell_type": "code",
      "metadata": {
        "colab": {
          "base_uri": "https://localhost:8080/"
        },
        "id": "CQHnE9Shhkqb",
        "outputId": "b60432d6-3461-4333-b279-519dc46003eb"
      },
      "source": [
        "print(tnsr)\n",
        "print()\n",
        "tnsr[0,2] = 100\n",
        "print(tnsr)"
      ],
      "execution_count": null,
      "outputs": [
        {
          "output_type": "stream",
          "text": [
            "tensor([[ 0.4550,  0.1043,  1.9313],\n",
            "        [ 0.1965,  0.2660,  0.7449],\n",
            "        [-0.8233,  0.3073,  1.4318]])\n",
            "\n",
            "tensor([[  0.4550,   0.1043, 100.0000],\n",
            "        [  0.1965,   0.2660,   0.7449],\n",
            "        [ -0.8233,   0.3073,   1.4318]])\n"
          ],
          "name": "stdout"
        }
      ]
    },
    {
      "cell_type": "code",
      "metadata": {
        "colab": {
          "base_uri": "https://localhost:8080/"
        },
        "id": "uUOjZLamjCRb",
        "outputId": "edcef5ba-714e-4d32-b853-f6fe04d55c11"
      },
      "source": [
        "print(tnsr[0:2,:]) # [linha, coluna]\n",
        "print()\n",
        "print(tnsr[:,1])\n",
        "print(tnsr[:,1].size())"
      ],
      "execution_count": null,
      "outputs": [
        {
          "output_type": "stream",
          "text": [
            "tensor([[  0.4550,   0.1043, 100.0000],\n",
            "        [  0.1965,   0.2660,   0.7449]])\n",
            "\n",
            "tensor([0.1043, 0.2660, 0.3073])\n",
            "torch.Size([3])\n"
          ],
          "name": "stdout"
        }
      ]
    },
    {
      "cell_type": "code",
      "metadata": {
        "colab": {
          "base_uri": "https://localhost:8080/"
        },
        "id": "Gj-rVZEFj2hf",
        "outputId": "fdd10abb-efee-4075-d8de-0282d891cf25"
      },
      "source": [
        "print(tnsr[0,2])\n",
        "print(tnsr[0,2].size()) # também será um tensor (de dimensão 0)"
      ],
      "execution_count": null,
      "outputs": [
        {
          "output_type": "stream",
          "text": [
            "tensor(100.)\n",
            "torch.Size([])\n"
          ],
          "name": "stdout"
        }
      ]
    },
    {
      "cell_type": "markdown",
      "metadata": {
        "id": "XCXyot5fi9Vt"
      },
      "source": [
        "### 7. Operações com tensor"
      ]
    },
    {
      "cell_type": "code",
      "metadata": {
        "colab": {
          "base_uri": "https://localhost:8080/"
        },
        "id": "VjFVrmybi8tT",
        "outputId": "6c6a6628-51a6-4a2b-9aaf-54e3c5afbe3e"
      },
      "source": [
        "# as dimensoes têm que bater\n",
        "tns1 = torch.randn(2,3)\n",
        "tns2 = torch.ones(2,3)\n",
        "\n",
        "print(tns1)\n",
        "print(tns2)\n",
        "\n",
        "print(tns1+tns2)\n",
        "print(tns1*tns2) # operação ponto a ponto, não é como uma multiplicação de matrizes\n",
        "print()\n",
        "\n",
        "print(torch.mm(tns1, tns2.T)) # para fazer multiplicação de tensores como matrizes esse é o caminho"
      ],
      "execution_count": null,
      "outputs": [
        {
          "output_type": "stream",
          "text": [
            "tensor([[ 0.1167,  0.9065,  0.6682],\n",
            "        [-0.4500, -2.0525,  2.0095]])\n",
            "tensor([[1., 1., 1.],\n",
            "        [1., 1., 1.]])\n",
            "tensor([[ 1.1167,  1.9065,  1.6682],\n",
            "        [ 0.5500, -1.0525,  3.0095]])\n",
            "tensor([[ 0.1167,  0.9065,  0.6682],\n",
            "        [-0.4500, -2.0525,  2.0095]])\n",
            "\n",
            "tensor([[ 1.6914,  1.6914],\n",
            "        [-0.4930, -0.4930]])\n"
          ],
          "name": "stdout"
        }
      ]
    },
    {
      "cell_type": "markdown",
      "metadata": {
        "id": "FnZJjeDSllp7"
      },
      "source": [
        "### 8. Size e view"
      ]
    },
    {
      "cell_type": "code",
      "metadata": {
        "colab": {
          "base_uri": "https://localhost:8080/"
        },
        "id": "9_LRS_EXlg9V",
        "outputId": "68f0217b-3ff4-4b7a-c4a4-f021f562ad98"
      },
      "source": [
        "print(tns1.size())"
      ],
      "execution_count": null,
      "outputs": [
        {
          "output_type": "stream",
          "text": [
            "torch.Size([2, 3])\n"
          ],
          "name": "stdout"
        }
      ]
    },
    {
      "cell_type": "code",
      "metadata": {
        "colab": {
          "base_uri": "https://localhost:8080/"
        },
        "id": "pok1fo8plkMI",
        "outputId": "2272a294-e1e9-41b5-a313-3b0ce0655a29"
      },
      "source": [
        "tns = torch.randn(2,2,3)\n",
        "print(tns)\n",
        "\n",
        "print()\n",
        "print(tns.size())\n",
        "tns = tns.view(12)\n",
        "print(tns)\n",
        "print()\n",
        "\n",
        "tns = tns.view(3,4)\n",
        "print(tns)"
      ],
      "execution_count": null,
      "outputs": [
        {
          "output_type": "stream",
          "text": [
            "tensor([[[-1.8108,  0.6978,  1.3893],\n",
            "         [ 0.6521, -0.6996, -0.7041]],\n",
            "\n",
            "        [[-0.3054,  1.1698, -1.5601],\n",
            "         [-0.2956,  0.5492, -0.1187]]])\n",
            "\n",
            "torch.Size([2, 2, 3])\n",
            "tensor([-1.8108,  0.6978,  1.3893,  0.6521, -0.6996, -0.7041, -0.3054,  1.1698,\n",
            "        -1.5601, -0.2956,  0.5492, -0.1187])\n",
            "\n",
            "tensor([[-1.8108,  0.6978,  1.3893,  0.6521],\n",
            "        [-0.6996, -0.7041, -0.3054,  1.1698],\n",
            "        [-1.5601, -0.2956,  0.5492, -0.1187]])\n"
          ],
          "name": "stdout"
        }
      ]
    },
    {
      "cell_type": "markdown",
      "metadata": {
        "id": "A1b1rLTemyNO"
      },
      "source": [
        "### 9. GPU Cast"
      ]
    },
    {
      "cell_type": "code",
      "metadata": {
        "colab": {
          "base_uri": "https://localhost:8080/"
        },
        "id": "PPoDR-6-mwqt",
        "outputId": "223278aa-26ae-4336-c10d-f2f8ff4af49c"
      },
      "source": [
        "if torch.cuda.is_available():\n",
        "  device = torch.device('cuda')\n",
        "else:\n",
        "  device = torch.device('cpu')\n",
        "print(device)"
      ],
      "execution_count": null,
      "outputs": [
        {
          "output_type": "stream",
          "text": [
            "cuda\n"
          ],
          "name": "stdout"
        }
      ]
    },
    {
      "cell_type": "code",
      "metadata": {
        "colab": {
          "base_uri": "https://localhost:8080/"
        },
        "id": "B5OPEC5Ynq9k",
        "outputId": "ea7f1607-6b22-4110-e763-f5ee257833e0"
      },
      "source": [
        "tns = tns.to(device)\n",
        "print(tns)"
      ],
      "execution_count": null,
      "outputs": [
        {
          "output_type": "stream",
          "text": [
            "tensor([[-1.8108,  0.6978,  1.3893,  0.6521],\n",
            "        [-0.6996, -0.7041, -0.3054,  1.1698],\n",
            "        [-1.5601, -0.2956,  0.5492, -0.1187]], device='cuda:0')\n"
          ],
          "name": "stdout"
        }
      ]
    },
    {
      "cell_type": "markdown",
      "metadata": {
        "id": "A2YHDMkjoX7y"
      },
      "source": [
        "### 10. Exercício"
      ]
    },
    {
      "cell_type": "code",
      "metadata": {
        "colab": {
          "base_uri": "https://localhost:8080/"
        },
        "id": "FqgUxozCoXHC",
        "outputId": "6d59f204-ab3c-43c2-b3e7-ec088e6d5066"
      },
      "source": [
        "\n",
        "tns = torch.randn(9, 12)\n",
        "tns1 = tns[0:5, 0:4]\n",
        "tns2 = tns[5:, 4:]\n",
        "\n",
        "resultado = torch.mm(tns1, tns2)\n",
        "print(resultado.size())\n",
        "print(resultado)"
      ],
      "execution_count": null,
      "outputs": [
        {
          "output_type": "stream",
          "text": [
            "torch.Size([5, 8])\n",
            "tensor([[ 0.0374,  1.5182, -3.8493, -2.1824, -0.7933, -4.0922, -4.8062,  2.6660],\n",
            "        [ 1.2036,  0.4030, -4.0945, -1.2854,  1.8143, -2.5648, -3.4778,  2.6995],\n",
            "        [ 1.2536,  4.2302,  2.4340,  2.0527,  3.6577,  3.6450,  4.2730, -1.1120],\n",
            "        [ 0.8574, -1.0981, -1.5166, -0.7724, -3.3857, -2.9011, -4.7401, -1.3009],\n",
            "        [-2.5485, -2.7367, -2.1413, -2.5160, -2.8202, -3.3366, -2.6756,  2.7080]])\n"
          ],
          "name": "stdout"
        }
      ]
    }
  ]
}