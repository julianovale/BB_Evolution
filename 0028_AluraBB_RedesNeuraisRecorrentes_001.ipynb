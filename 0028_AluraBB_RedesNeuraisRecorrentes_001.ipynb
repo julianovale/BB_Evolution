{
  "nbformat": 4,
  "nbformat_minor": 0,
  "metadata": {
    "colab": {
      "name": "0028_AluraBB_RedesNeuraisRecorrentes_001.ipynb",
      "provenance": [],
      "collapsed_sections": [],
      "authorship_tag": "ABX9TyPfxBlDchZ7BmW34Eb0jS/+",
      "include_colab_link": true
    },
    "kernelspec": {
      "name": "python3",
      "display_name": "Python 3"
    },
    "language_info": {
      "name": "python"
    }
  },
  "cells": [
    {
      "cell_type": "markdown",
      "metadata": {
        "id": "view-in-github",
        "colab_type": "text"
      },
      "source": [
        "<a href=\"https://colab.research.google.com/github/julianovale/BB_Evolution/blob/main/0028_AluraBB_RedesNeuraisRecorrentes_001.ipynb\" target=\"_parent\"><img src=\"https://colab.research.google.com/assets/colab-badge.svg\" alt=\"Open In Colab\"/></a>"
      ]
    },
    {
      "cell_type": "code",
      "metadata": {
        "id": "Smrb3GKqWsVu",
        "colab": {
          "base_uri": "https://localhost:8080/"
        },
        "outputId": "17ef61b1-63ab-49a5-b604-58c859db343b"
      },
      "source": [
        "# comente as duas linhas seguintes caso rode mais de uma vez\n",
        "# !wget https://download.pytorch.org/tutorial/data.zip #\n",
        "# !unzip data.zip #\n",
        "############################################################"
      ],
      "execution_count": 1,
      "outputs": [
        {
          "output_type": "stream",
          "name": "stdout",
          "text": [
            "--2021-10-19 16:45:29--  https://download.pytorch.org/tutorial/data.zip\n",
            "Resolving download.pytorch.org (download.pytorch.org)... 54.230.85.47, 54.230.85.37, 54.230.85.108, ...\n",
            "Connecting to download.pytorch.org (download.pytorch.org)|54.230.85.47|:443... connected.\n",
            "HTTP request sent, awaiting response... 200 OK\n",
            "Length: 2882130 (2.7M) [application/zip]\n",
            "Saving to: ‘data.zip’\n",
            "\n",
            "\rdata.zip              0%[                    ]       0  --.-KB/s               \rdata.zip            100%[===================>]   2.75M  --.-KB/s    in 0.09s   \n",
            "\n",
            "2021-10-19 16:45:29 (31.2 MB/s) - ‘data.zip’ saved [2882130/2882130]\n",
            "\n",
            "Archive:  data.zip\n",
            "   creating: data/\n",
            "  inflating: data/eng-fra.txt        \n",
            "   creating: data/names/\n",
            "  inflating: data/names/Arabic.txt   \n",
            "  inflating: data/names/Chinese.txt  \n",
            "  inflating: data/names/Czech.txt    \n",
            "  inflating: data/names/Dutch.txt    \n",
            "  inflating: data/names/English.txt  \n",
            "  inflating: data/names/French.txt   \n",
            "  inflating: data/names/German.txt   \n",
            "  inflating: data/names/Greek.txt    \n",
            "  inflating: data/names/Irish.txt    \n",
            "  inflating: data/names/Italian.txt  \n",
            "  inflating: data/names/Japanese.txt  \n",
            "  inflating: data/names/Korean.txt   \n",
            "  inflating: data/names/Polish.txt   \n",
            "  inflating: data/names/Portuguese.txt  \n",
            "  inflating: data/names/Russian.txt  \n",
            "  inflating: data/names/Scottish.txt  \n",
            "  inflating: data/names/Spanish.txt  \n",
            "  inflating: data/names/Vietnamese.txt  \n"
          ]
        }
      ]
    },
    {
      "cell_type": "code",
      "metadata": {
        "colab": {
          "base_uri": "https://localhost:8080/"
        },
        "id": "eWx06qfwctcp",
        "outputId": "39881a27-72e3-4e82-cd13-89bf8725e255"
      },
      "source": [
        "import os\n",
        "import numpy as np\n",
        "import unicodedata\n",
        "\n",
        "def le_arquivo(path):\n",
        "  nomes = open(path).read().split('\\n')\n",
        "  nomes = [unicodedata.normalize('NFKD', nome).encode('ascii', 'ignore') for nome in nomes] # retirar acento dos nomes\n",
        "  categoria = path.split('/')[-1].split('.')[0] # pegando a categoria a partir do nome do arquivo, sem o \"txt\". Exemplo: \"data/names/Vietnamese.txt\" = Vietnamese\n",
        "  categorias = np.repeat(categoria, len(nomes))\n",
        "\n",
        "  return nomes, categorias\n",
        "\n",
        "root = './data/names'\n",
        "arquivos = sorted(os.listdir(root))\n",
        "\n",
        "dados, rotulos = [], []\n",
        "for arquivo in arquivos:\n",
        "  nomes, nacionalidades = le_arquivo(os.path.join(root, arquivo)) \n",
        "\n",
        "  dados.append(nomes)\n",
        "  rotulos.append(nacionalidades)\n",
        "\n",
        "print(dados[0][0:10], rotulos[0][0:10])\n",
        "len(dados[0]), len(rotulos[0])"
      ],
      "execution_count": 10,
      "outputs": [
        {
          "output_type": "stream",
          "name": "stdout",
          "text": [
            "[b'Khoury', b'Nahas', b'Daher', b'Gerges', b'Nazari', b'Maalouf', b'Gerges', b'Naifeh', b'Guirguis', b'Baba'] ['Arabic' 'Arabic' 'Arabic' 'Arabic' 'Arabic' 'Arabic' 'Arabic' 'Arabic'\n",
            " 'Arabic' 'Arabic']\n"
          ]
        },
        {
          "output_type": "execute_result",
          "data": {
            "text/plain": [
              "(2001, 2001)"
            ]
          },
          "metadata": {},
          "execution_count": 10
        }
      ]
    },
    {
      "cell_type": "code",
      "metadata": {
        "colab": {
          "base_uri": "https://localhost:8080/"
        },
        "id": "gGGhNLgHfseO",
        "outputId": "ede16942-52f7-47d2-d8bf-78574fe905f5"
      },
      "source": [
        "# normalize (tirando acento) - exemplo:\n",
        "\n",
        "nominho = 'Virgínia'\n",
        "unicodedata.normalize('NFKD', nominho).encode('ascii', 'ignore')"
      ],
      "execution_count": 9,
      "outputs": [
        {
          "output_type": "execute_result",
          "data": {
            "text/plain": [
              "b'Virginia'"
            ]
          },
          "metadata": {},
          "execution_count": 9
        }
      ]
    },
    {
      "cell_type": "code",
      "metadata": {
        "id": "QtK_GqKdlHiI"
      },
      "source": [
        "# estou assistindo módulo 2 - vídeo 5"
      ],
      "execution_count": 11,
      "outputs": []
    },
    {
      "cell_type": "code",
      "metadata": {
        "id": "bZivPaivmpoI"
      },
      "source": [
        ""
      ],
      "execution_count": null,
      "outputs": []
    }
  ]
}